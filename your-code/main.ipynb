{
 "cells": [
  {
   "cell_type": "markdown",
   "metadata": {},
   "source": [
    "# Web Scraping Lab\n",
    "\n",
    "You will find in this notebook some scrapy exercises to practise your scraping skills.\n",
    "\n",
    "**Tips:**\n",
    "\n",
    "- Check the response status code for each request to ensure you have obtained the intended contennt.\n",
    "- Print the response text in each request to understand the kind of info you are getting and its format.\n",
    "- Check for patterns in the response text to extract the data/info requested in each question.\n",
    "- Visit each url and take a look at its source through Chrome DevTools. You'll need to identify the html tags, special class names etc. used for the html content you are expected to extract."
   ]
  },
  {
   "cell_type": "markdown",
   "metadata": {},
   "source": [
    "- [Requests library](http://docs.python-requests.org/en/master/#the-user-guide) documentation \n",
    "- [Beautiful Soup Doc](https://www.crummy.com/software/BeautifulSoup/bs4/doc/)\n",
    "- [Urllib](https://docs.python.org/3/library/urllib.html#module-urllib)\n",
    "- [re lib](https://docs.python.org/3/library/re.html)\n",
    "- [lxml lib](https://lxml.de/)\n",
    "- [Scrapy](https://scrapy.org/)\n",
    "- [List of HTTP status codes](https://en.wikipedia.org/wiki/List_of_HTTP_status_codes)\n",
    "- [HTML basics](http://www.simplehtmlguide.com/cheatsheet.php)\n",
    "- [CSS basics](https://www.cssbasics.com/#page_start)"
   ]
  },
  {
   "cell_type": "markdown",
   "metadata": {},
   "source": [
    "#### Below are the libraries and modules you may need. `requests`,  `BeautifulSoup` and `pandas` are imported for you. If you prefer to use additional libraries feel free to uncomment them."
   ]
  },
  {
   "cell_type": "code",
   "execution_count": 1,
   "metadata": {},
   "outputs": [],
   "source": [
    "import requests as rq\n",
    "from bs4 import BeautifulSoup as bs\n",
    "import pandas as pd\n",
    "# from pprint import pprint\n",
    "# from lxml import html\n",
    "# from lxml.html import fromstring\n",
    "# import urllib.request\n",
    "# from urllib.request import urlopen\n",
    "# import random\n",
    "# import re\n",
    "# import scrapy"
   ]
  },
  {
   "cell_type": "markdown",
   "metadata": {},
   "source": [
    "#### Download, parse (using BeautifulSoup), and print the content from the Trending Developers page from GitHub:"
   ]
  },
  {
   "cell_type": "code",
   "execution_count": 2,
   "metadata": {},
   "outputs": [],
   "source": [
    "# This is the url you will scrape in this exercise\n",
    "url = 'https://github.com/trending/developers'"
   ]
  },
  {
   "cell_type": "code",
   "execution_count": 3,
   "metadata": {},
   "outputs": [],
   "source": [
    "html=rq.get(url).text"
   ]
  },
  {
   "cell_type": "code",
   "execution_count": 4,
   "metadata": {},
   "outputs": [],
   "source": [
    "deve= bs(html, 'html.parser')"
   ]
  },
  {
   "cell_type": "code",
   "execution_count": 5,
   "metadata": {},
   "outputs": [
    {
     "data": {
      "text/plain": [
       "'emilk'"
      ]
     },
     "execution_count": 5,
     "metadata": {},
     "output_type": "execute_result"
    }
   ],
   "source": [
    "deve.find_all('p', class_='f4 text-normal mb-1')[0].text.strip()\n",
    "\n",
    "\n",
    "    "
   ]
  },
  {
   "cell_type": "code",
   "execution_count": 6,
   "metadata": {
    "scrolled": true
   },
   "outputs": [
    {
     "data": {
      "text/plain": [
       "'Emil Ernerfeldt'"
      ]
     },
     "execution_count": 6,
     "metadata": {},
     "output_type": "execute_result"
    }
   ],
   "source": [
    "deve.find_all('h1', class_='h3 lh-condensed')[0].text.strip()\n"
   ]
  },
  {
   "cell_type": "code",
   "execution_count": 7,
   "metadata": {},
   "outputs": [],
   "source": [
    "nick_dv=deve.find_all('p', class_='f4 text-normal mb-1')"
   ]
  },
  {
   "cell_type": "code",
   "execution_count": 8,
   "metadata": {},
   "outputs": [
    {
     "data": {
      "text/plain": [
       "24"
      ]
     },
     "execution_count": 8,
     "metadata": {},
     "output_type": "execute_result"
    }
   ],
   "source": [
    "len(nick_dv)"
   ]
  },
  {
   "cell_type": "code",
   "execution_count": 9,
   "metadata": {},
   "outputs": [],
   "source": [
    "name_dv= deve.find_all('h1', class_='h3 lh-condensed')"
   ]
  },
  {
   "cell_type": "code",
   "execution_count": 10,
   "metadata": {},
   "outputs": [
    {
     "data": {
      "text/plain": [
       "25"
      ]
     },
     "execution_count": 10,
     "metadata": {},
     "output_type": "execute_result"
    }
   ],
   "source": [
    "len(name_dv)"
   ]
  },
  {
   "cell_type": "code",
   "execution_count": 11,
   "metadata": {},
   "outputs": [
    {
     "name": "stdout",
     "output_type": "stream",
     "text": [
      "['Emil Ernerfeldt', 'Earle F. Philhower, III', 'Nikita Sobolev', 'Stephen Celis', 'Justin Fagnani', 'Manu MA', 'Joshua', 'Simon H', 'Marcus Olsson', 'Ben V. Brown', 'Jonny Borges', 'Andrew Kane', 'Wangchong Zhou', 'Mislav Marohnić', 'Matthias Fey', 'Elliana May', 'Romain Beaumont', 'Hari Sekhon', 'osy', 'Adam Johnson', 'Pedro Cuenca', 'Alex Gaynor', 'Henrik Rydgård', 'Joshua Levy', 'Mu Li']\n"
     ]
    }
   ],
   "source": [
    "name_lst=[]\n",
    "for i in name_dv:\n",
    "    name_lst.append(i.text.strip())\n",
    "print(name_lst)\n"
   ]
  },
  {
   "cell_type": "code",
   "execution_count": 12,
   "metadata": {},
   "outputs": [
    {
     "name": "stdout",
     "output_type": "stream",
     "text": [
      "['emilk', 'earlephilhower', 'sobolevn', 'stephencelis', 'justinfagnani', 'manucorporat', 'minimalsm', 'dummdidumm', 'marcusolsson', 'Ralim', 'jonataslaw', 'ankane', 'fffonion', 'mislav', 'rusty1s', 'Mause', 'rom1504', 'HariSekhon', 'adamchainz', 'pcuenca', 'alex', 'hrydgard', 'jlevy', 'mli']\n"
     ]
    }
   ],
   "source": [
    "nick_lst=[]\n",
    "for i in nick_dv:\n",
    "    nick_lst.append(i.text.strip())\n",
    "          \n",
    "print(nick_lst)"
   ]
  },
  {
   "cell_type": "code",
   "execution_count": 13,
   "metadata": {},
   "outputs": [
    {
     "data": {
      "text/plain": [
       "24"
      ]
     },
     "execution_count": 13,
     "metadata": {},
     "output_type": "execute_result"
    }
   ],
   "source": [
    "len(nick_lst)"
   ]
  },
  {
   "cell_type": "code",
   "execution_count": 14,
   "metadata": {},
   "outputs": [
    {
     "data": {
      "text/plain": [
       "25"
      ]
     },
     "execution_count": 14,
     "metadata": {},
     "output_type": "execute_result"
    }
   ],
   "source": [
    "len(name_lst)"
   ]
  },
  {
   "cell_type": "code",
   "execution_count": 15,
   "metadata": {},
   "outputs": [],
   "source": [
    "name_nick_lst= [i for l in zip(name_lst, nick_lst)for i in l]\n"
   ]
  },
  {
   "cell_type": "code",
   "execution_count": 16,
   "metadata": {},
   "outputs": [
    {
     "data": {
      "text/plain": [
       "['Emil Ernerfeldt',\n",
       " 'emilk',\n",
       " 'Earle F. Philhower, III',\n",
       " 'earlephilhower',\n",
       " 'Nikita Sobolev',\n",
       " 'sobolevn',\n",
       " 'Stephen Celis',\n",
       " 'stephencelis',\n",
       " 'Justin Fagnani',\n",
       " 'justinfagnani',\n",
       " 'Manu MA',\n",
       " 'manucorporat',\n",
       " 'Joshua',\n",
       " 'minimalsm',\n",
       " 'Simon H',\n",
       " 'dummdidumm',\n",
       " 'Marcus Olsson',\n",
       " 'marcusolsson',\n",
       " 'Ben V. Brown',\n",
       " 'Ralim',\n",
       " 'Jonny Borges',\n",
       " 'jonataslaw',\n",
       " 'Andrew Kane',\n",
       " 'ankane',\n",
       " 'Wangchong Zhou',\n",
       " 'fffonion',\n",
       " 'Mislav Marohnić',\n",
       " 'mislav',\n",
       " 'Matthias Fey',\n",
       " 'rusty1s',\n",
       " 'Elliana May',\n",
       " 'Mause',\n",
       " 'Romain Beaumont',\n",
       " 'rom1504',\n",
       " 'Hari Sekhon',\n",
       " 'HariSekhon',\n",
       " 'osy',\n",
       " 'adamchainz',\n",
       " 'Adam Johnson',\n",
       " 'pcuenca',\n",
       " 'Pedro Cuenca',\n",
       " 'alex',\n",
       " 'Alex Gaynor',\n",
       " 'hrydgard',\n",
       " 'Henrik Rydgård',\n",
       " 'jlevy',\n",
       " 'Joshua Levy',\n",
       " 'mli']"
      ]
     },
     "execution_count": 16,
     "metadata": {},
     "output_type": "execute_result"
    }
   ],
   "source": [
    "name_nick_lst"
   ]
  },
  {
   "cell_type": "markdown",
   "metadata": {},
   "source": [
    "#### Display the names of the trending developers retrieved in the previous step.\n",
    "\n",
    "Your output should be a Python list of developer names. Each name should not contain any html tag.\n",
    "\n",
    "**Instructions:**\n",
    "\n",
    "1. Find out the html tag and class names used for the developer names. You can achieve this using Chrome DevTools.\n",
    "\n",
    "1. Use BeautifulSoup to extract all the html elements that contain the developer names.\n",
    "\n",
    "1. Use string manipulation techniques to replace whitespaces and linebreaks (i.e. `\\n`) in the *text* of each html element. Use a list to store the clean names.\n",
    "\n",
    "1. Print the list of names.\n",
    "\n",
    "Your output should look like below:\n",
    "\n",
    "```\n",
    "['trimstray (@trimstray)',\n",
    " 'joewalnes (JoeWalnes)',\n",
    " 'charlax (Charles-AxelDein)',\n",
    " 'ForrestKnight (ForrestKnight)',\n",
    " 'revery-ui (revery-ui)',\n",
    " 'alibaba (Alibaba)',\n",
    " 'Microsoft (Microsoft)',\n",
    " 'github (GitHub)',\n",
    " 'facebook (Facebook)',\n",
    " 'boazsegev (Bo)',\n",
    " 'google (Google)',\n",
    " 'cloudfetch',\n",
    " 'sindresorhus (SindreSorhus)',\n",
    " 'tensorflow',\n",
    " 'apache (TheApacheSoftwareFoundation)',\n",
    " 'DevonCrawford (DevonCrawford)',\n",
    " 'ARMmbed (ArmMbed)',\n",
    " 'vuejs (vuejs)',\n",
    " 'fastai (fast.ai)',\n",
    " 'QiShaoXuan (Qi)',\n",
    " 'joelparkerhenderson (JoelParkerHenderson)',\n",
    " 'torvalds (LinusTorvalds)',\n",
    " 'CyC2018',\n",
    " 'komeiji-satori (神楽坂覚々)',\n",
    " 'script-8']\n",
    " ```"
   ]
  },
  {
   "cell_type": "markdown",
   "metadata": {},
   "source": [
    "#### Display the trending Python repositories in GitHub\n",
    "\n",
    "The steps to solve this problem is similar to the previous one except that you need to find out the repository names instead of developer names."
   ]
  },
  {
   "cell_type": "code",
   "execution_count": 17,
   "metadata": {},
   "outputs": [],
   "source": [
    "# This is the url you will scrape in this exercise\n",
    "url1 = 'https://github.com/trending/python?since=daily'"
   ]
  },
  {
   "cell_type": "code",
   "execution_count": 18,
   "metadata": {},
   "outputs": [],
   "source": [
    "html= rq.get(url1).text"
   ]
  },
  {
   "cell_type": "code",
   "execution_count": 19,
   "metadata": {},
   "outputs": [],
   "source": [
    "repo= bs(html, 'html.parser')"
   ]
  },
  {
   "cell_type": "code",
   "execution_count": 20,
   "metadata": {},
   "outputs": [
    {
     "data": {
      "text/plain": [
       "'bregman-arie /\\n\\n      devops-exercises'"
      ]
     },
     "execution_count": 20,
     "metadata": {},
     "output_type": "execute_result"
    }
   ],
   "source": [
    "repo.find_all('h1', class_='h3 lh-condensed')[0].text.strip()"
   ]
  },
  {
   "cell_type": "code",
   "execution_count": 21,
   "metadata": {},
   "outputs": [],
   "source": [
    "repo_name= repo.find_all('h1', class_='h3 lh-condensed')"
   ]
  },
  {
   "cell_type": "code",
   "execution_count": 22,
   "metadata": {},
   "outputs": [],
   "source": [
    "repo_lst=[]"
   ]
  },
  {
   "cell_type": "code",
   "execution_count": 23,
   "metadata": {
    "scrolled": true
   },
   "outputs": [
    {
     "name": "stdout",
     "output_type": "stream",
     "text": [
      "['bregman-arie /\\n\\n      devops-exercises', 'public-apis /\\n\\n      public-apis', 'geohot /\\n\\n      tinygrad', 'mlflow /\\n\\n      mlflow', 'PaddlePaddle /\\n\\n      PaddleDetection', 'google /\\n\\n      jax', 'iterativv /\\n\\n      NostalgiaForInfinity', 'netbox-community /\\n\\n      netbox', 'tiangolo /\\n\\n      typer', 'streamlit /\\n\\n      streamlit', 'modelscope /\\n\\n      modelscope', 'LetusDevops /\\n\\n      LearnPython', 'nerfstudio-project /\\n\\n      nerfstudio', 'idanya /\\n\\n      algo-trader', 'heartexlabs /\\n\\n      labelImg', 'microsoft /\\n\\n      pyright', 'sqlmapproject /\\n\\n      sqlmap', 'unifyai /\\n\\n      ivy', 'crytic /\\n\\n      slither', 'ultralytics /\\n\\n      yolov5', 'home-assistant /\\n\\n      core', 'WeAreMahsaAmini /\\n\\n      FreeInternet', 'open-mmlab /\\n\\n      mmocr', 'Lightning-AI /\\n\\n      lightning', 'demisto /\\n\\n      content']\n"
     ]
    }
   ],
   "source": [
    "for i in repo_name:\n",
    "    repo_lst.append(i.text.strip())\n",
    "print(repo_lst)"
   ]
  },
  {
   "cell_type": "code",
   "execution_count": 24,
   "metadata": {},
   "outputs": [],
   "source": [
    "import regex as re"
   ]
  },
  {
   "cell_type": "code",
   "execution_count": 25,
   "metadata": {},
   "outputs": [],
   "source": [
    "def refind(x):\n",
    "    Regex= r' \\w+[-\\w]\\w+'\n",
    "    x = re.findall(Regex, x)\n",
    "    return x"
   ]
  },
  {
   "cell_type": "code",
   "execution_count": 26,
   "metadata": {},
   "outputs": [],
   "source": [
    "lst1 =list(map(refind, repo_lst))"
   ]
  },
  {
   "cell_type": "code",
   "execution_count": 27,
   "metadata": {},
   "outputs": [
    {
     "data": {
      "text/plain": [
       "[[' devops-exercises'],\n",
       " [' public-apis'],\n",
       " [' tinygrad'],\n",
       " [' mlflow'],\n",
       " [' PaddleDetection'],\n",
       " [' jax'],\n",
       " [' NostalgiaForInfinity'],\n",
       " [' netbox'],\n",
       " [' typer'],\n",
       " [' streamlit'],\n",
       " [' modelscope'],\n",
       " [' LearnPython'],\n",
       " [' nerfstudio'],\n",
       " [' algo-trader'],\n",
       " [' labelImg'],\n",
       " [' pyright'],\n",
       " [' sqlmap'],\n",
       " [' ivy'],\n",
       " [' slither'],\n",
       " [' yolov5'],\n",
       " [' core'],\n",
       " [' FreeInternet'],\n",
       " [' mmocr'],\n",
       " [' lightning'],\n",
       " [' content']]"
      ]
     },
     "execution_count": 27,
     "metadata": {},
     "output_type": "execute_result"
    }
   ],
   "source": [
    "lst1"
   ]
  },
  {
   "cell_type": "code",
   "execution_count": 28,
   "metadata": {},
   "outputs": [],
   "source": [
    "lst2= [i for a in lst1 for i in a]"
   ]
  },
  {
   "cell_type": "code",
   "execution_count": 29,
   "metadata": {},
   "outputs": [],
   "source": [
    "lst3=[i.strip() for i in lst2]"
   ]
  },
  {
   "cell_type": "code",
   "execution_count": 30,
   "metadata": {},
   "outputs": [
    {
     "data": {
      "text/plain": [
       "['devops-exercises',\n",
       " 'public-apis',\n",
       " 'tinygrad',\n",
       " 'mlflow',\n",
       " 'PaddleDetection',\n",
       " 'jax',\n",
       " 'NostalgiaForInfinity',\n",
       " 'netbox',\n",
       " 'typer',\n",
       " 'streamlit',\n",
       " 'modelscope',\n",
       " 'LearnPython',\n",
       " 'nerfstudio',\n",
       " 'algo-trader',\n",
       " 'labelImg',\n",
       " 'pyright',\n",
       " 'sqlmap',\n",
       " 'ivy',\n",
       " 'slither',\n",
       " 'yolov5',\n",
       " 'core',\n",
       " 'FreeInternet',\n",
       " 'mmocr',\n",
       " 'lightning',\n",
       " 'content']"
      ]
     },
     "execution_count": 30,
     "metadata": {},
     "output_type": "execute_result"
    }
   ],
   "source": [
    "lst3\n",
    "    "
   ]
  },
  {
   "cell_type": "markdown",
   "metadata": {},
   "source": [
    "#### Display all the image links from Walt Disney wikipedia page"
   ]
  },
  {
   "cell_type": "code",
   "execution_count": 31,
   "metadata": {},
   "outputs": [],
   "source": [
    "# This is the url you will scrape in this exercise\n",
    "url3 = 'https://en.wikipedia.org/wiki/Walt_Disney'"
   ]
  },
  {
   "cell_type": "code",
   "execution_count": 32,
   "metadata": {},
   "outputs": [],
   "source": [
    "from IPython.display import Image"
   ]
  },
  {
   "cell_type": "code",
   "execution_count": 33,
   "metadata": {},
   "outputs": [],
   "source": [
    "html= rq.get(url3).text"
   ]
  },
  {
   "cell_type": "code",
   "execution_count": 34,
   "metadata": {},
   "outputs": [],
   "source": [
    "dys= bs(html, 'html.parser')"
   ]
  },
  {
   "cell_type": "code",
   "execution_count": 35,
   "metadata": {},
   "outputs": [],
   "source": [
    "ney= dys.find_all('img')"
   ]
  },
  {
   "cell_type": "code",
   "execution_count": 70,
   "metadata": {
    "scrolled": true
   },
   "outputs": [],
   "source": [
    "dys_foto= dys.find_all(\"img\")[15]"
   ]
  },
  {
   "cell_type": "code",
   "execution_count": 71,
   "metadata": {},
   "outputs": [
    {
     "data": {
      "text/plain": [
       "{'alt': '',\n",
       " 'src': '//upload.wikimedia.org/wikipedia/commons/thumb/1/13/DisneySchiphol1951.jpg/220px-DisneySchiphol1951.jpg',\n",
       " 'decoding': 'async',\n",
       " 'width': '220',\n",
       " 'height': '169',\n",
       " 'class': ['thumbimage'],\n",
       " 'srcset': '//upload.wikimedia.org/wikipedia/commons/thumb/1/13/DisneySchiphol1951.jpg/330px-DisneySchiphol1951.jpg 1.5x, //upload.wikimedia.org/wikipedia/commons/thumb/1/13/DisneySchiphol1951.jpg/440px-DisneySchiphol1951.jpg 2x',\n",
       " 'data-file-width': '3247',\n",
       " 'data-file-height': '2493'}"
      ]
     },
     "execution_count": 71,
     "metadata": {},
     "output_type": "execute_result"
    }
   ],
   "source": [
    "dys_foto.attrs"
   ]
  },
  {
   "cell_type": "code",
   "execution_count": 72,
   "metadata": {},
   "outputs": [
    {
     "data": {
      "text/html": [
       "<img src=\"//upload.wikimedia.org/wikipedia/commons/thumb/1/13/DisneySchiphol1951.jpg/220px-DisneySchiphol1951.jpg\"/>"
      ],
      "text/plain": [
       "<IPython.core.display.Image object>"
      ]
     },
     "metadata": {},
     "output_type": "display_data"
    }
   ],
   "source": [
    "display(Image(url=dys_foto.attrs['src']))"
   ]
  },
  {
   "cell_type": "code",
   "execution_count": 39,
   "metadata": {},
   "outputs": [
    {
     "name": "stdout",
     "output_type": "stream",
     "text": [
      "['//upload.wikimedia.org/wikipedia/en/thumb/e/e7/Cscr-featured.svg/20px-Cscr-featured.svg.png', '//upload.wikimedia.org/wikipedia/en/thumb/8/8c/Extended-protection-shackle.svg/20px-Extended-protection-shackle.svg.png', '//upload.wikimedia.org/wikipedia/commons/thumb/d/df/Walt_Disney_1946.JPG/220px-Walt_Disney_1946.JPG', '//upload.wikimedia.org/wikipedia/commons/thumb/8/87/Walt_Disney_1942_signature.svg/150px-Walt_Disney_1942_signature.svg.png', '//upload.wikimedia.org/wikipedia/commons/thumb/3/3a/Walt_Disney_Birthplace_Exterior_Hermosa_Chicago_Illinois.jpg/220px-Walt_Disney_Birthplace_Exterior_Hermosa_Chicago_Illinois.jpg', '//upload.wikimedia.org/wikipedia/commons/thumb/c/c4/Walt_Disney_envelope_ca._1921.jpg/220px-Walt_Disney_envelope_ca._1921.jpg', '//upload.wikimedia.org/wikipedia/commons/thumb/0/0d/Trolley_Troubles_poster.jpg/170px-Trolley_Troubles_poster.jpg', '//upload.wikimedia.org/wikipedia/en/thumb/4/4e/Steamboat-willie.jpg/170px-Steamboat-willie.jpg', '//upload.wikimedia.org/wikipedia/commons/thumb/5/57/Walt_Disney_1935.jpg/170px-Walt_Disney_1935.jpg', '//upload.wikimedia.org/wikipedia/commons/thumb/c/cd/Walt_Disney_Snow_white_1937_trailer_screenshot_%2813%29.jpg/220px-Walt_Disney_Snow_white_1937_trailer_screenshot_%2813%29.jpg', '//upload.wikimedia.org/wikipedia/commons/thumb/1/15/Disney_drawing_goofy.jpg/170px-Disney_drawing_goofy.jpg', '//upload.wikimedia.org/wikipedia/commons/thumb/8/8c/WaltDisneyplansDisneylandDec1954.jpg/220px-WaltDisneyplansDisneylandDec1954.jpg', '//upload.wikimedia.org/wikipedia/commons/thumb/f/ff/Walt_disney_portrait_right.jpg/170px-Walt_disney_portrait_right.jpg', '//upload.wikimedia.org/wikipedia/commons/thumb/1/1a/Walt_Disney_Grave.JPG/170px-Walt_Disney_Grave.JPG', '//upload.wikimedia.org/wikipedia/commons/thumb/2/2d/Roy_O._Disney_with_Company_at_Press_Conference.jpg/170px-Roy_O._Disney_with_Company_at_Press_Conference.jpg', '//upload.wikimedia.org/wikipedia/commons/thumb/1/13/DisneySchiphol1951.jpg/220px-DisneySchiphol1951.jpg', '//upload.wikimedia.org/wikipedia/commons/thumb/6/6c/Disney1968.jpg/170px-Disney1968.jpg', '//upload.wikimedia.org/wikipedia/commons/thumb/b/b0/Disney_Oscar_1953_%28cropped%29.jpg/170px-Disney_Oscar_1953_%28cropped%29.jpg', '//upload.wikimedia.org/wikipedia/en/thumb/4/4a/Commons-logo.svg/30px-Commons-logo.svg.png', '//upload.wikimedia.org/wikipedia/commons/thumb/4/4c/Wikisource-logo.svg/38px-Wikisource-logo.svg.png', '//upload.wikimedia.org/wikipedia/commons/thumb/f/fa/Wikiquote-logo.svg/34px-Wikiquote-logo.svg.png', '//upload.wikimedia.org/wikipedia/en/thumb/8/8a/OOjs_UI_icon_edit-ltr-progressive.svg/10px-OOjs_UI_icon_edit-ltr-progressive.svg.png', '//upload.wikimedia.org/wikipedia/en/thumb/8/8a/OOjs_UI_icon_edit-ltr-progressive.svg/10px-OOjs_UI_icon_edit-ltr-progressive.svg.png', '//upload.wikimedia.org/wikipedia/commons/thumb/e/e3/Disneyland_Resort_logo.svg/135px-Disneyland_Resort_logo.svg.png', '//upload.wikimedia.org/wikipedia/commons/thumb/d/da/Animation_disc.svg/20px-Animation_disc.svg.png', '//upload.wikimedia.org/wikipedia/en/thumb/6/69/P_vip.svg/19px-P_vip.svg.png', '//upload.wikimedia.org/wikipedia/commons/thumb/1/1a/Magic_Kingdom_castle.jpg/15px-Magic_Kingdom_castle.jpg', '//upload.wikimedia.org/wikipedia/en/thumb/e/e7/Video-x-generic.svg/19px-Video-x-generic.svg.png', '//upload.wikimedia.org/wikipedia/commons/thumb/a/a3/Flag_of_Los_Angeles_County%2C_California.svg/21px-Flag_of_Los_Angeles_County%2C_California.svg.png', '//upload.wikimedia.org/wikipedia/commons/thumb/8/8c/Blank_television_set.svg/21px-Blank_television_set.svg.png', '//upload.wikimedia.org/wikipedia/en/thumb/a/a4/Flag_of_the_United_States.svg/21px-Flag_of_the_United_States.svg.png', '//upload.wikimedia.org/wikipedia/en/thumb/4/4a/Commons-logo.svg/14px-Commons-logo.svg.png', '//upload.wikimedia.org/wikipedia/commons/thumb/f/fa/Wikiquote-logo.svg/16px-Wikiquote-logo.svg.png', '//upload.wikimedia.org/wikipedia/commons/thumb/4/4c/Wikisource-logo.svg/18px-Wikisource-logo.svg.png', '//upload.wikimedia.org/wikipedia/commons/thumb/f/ff/Wikidata-logo.svg/21px-Wikidata-logo.svg.png', '//upload.wikimedia.org/wikipedia/en/thumb/8/8a/OOjs_UI_icon_edit-ltr-progressive.svg/10px-OOjs_UI_icon_edit-ltr-progressive.svg.png', '//en.wikipedia.org/wiki/Special:CentralAutoLogin/start?type=1x1', '/static/images/footer/wikimedia-button.png', '/static/images/footer/poweredby_mediawiki_88x31.png']\n"
     ]
    }
   ],
   "source": [
    "images=[]\n",
    "for i in ney:\n",
    "    images.append(i['src'])\n",
    "print(images)"
   ]
  },
  {
   "cell_type": "code",
   "execution_count": 40,
   "metadata": {},
   "outputs": [
    {
     "data": {
      "text/plain": [
       "['//upload.wikimedia.org/wikipedia/en/thumb/e/e7/Cscr-featured.svg/20px-Cscr-featured.svg.png',\n",
       " '//upload.wikimedia.org/wikipedia/en/thumb/8/8c/Extended-protection-shackle.svg/20px-Extended-protection-shackle.svg.png',\n",
       " '//upload.wikimedia.org/wikipedia/commons/thumb/d/df/Walt_Disney_1946.JPG/220px-Walt_Disney_1946.JPG',\n",
       " '//upload.wikimedia.org/wikipedia/commons/thumb/8/87/Walt_Disney_1942_signature.svg/150px-Walt_Disney_1942_signature.svg.png',\n",
       " '//upload.wikimedia.org/wikipedia/commons/thumb/3/3a/Walt_Disney_Birthplace_Exterior_Hermosa_Chicago_Illinois.jpg/220px-Walt_Disney_Birthplace_Exterior_Hermosa_Chicago_Illinois.jpg',\n",
       " '//upload.wikimedia.org/wikipedia/commons/thumb/c/c4/Walt_Disney_envelope_ca._1921.jpg/220px-Walt_Disney_envelope_ca._1921.jpg',\n",
       " '//upload.wikimedia.org/wikipedia/commons/thumb/0/0d/Trolley_Troubles_poster.jpg/170px-Trolley_Troubles_poster.jpg',\n",
       " '//upload.wikimedia.org/wikipedia/en/thumb/4/4e/Steamboat-willie.jpg/170px-Steamboat-willie.jpg',\n",
       " '//upload.wikimedia.org/wikipedia/commons/thumb/5/57/Walt_Disney_1935.jpg/170px-Walt_Disney_1935.jpg',\n",
       " '//upload.wikimedia.org/wikipedia/commons/thumb/c/cd/Walt_Disney_Snow_white_1937_trailer_screenshot_%2813%29.jpg/220px-Walt_Disney_Snow_white_1937_trailer_screenshot_%2813%29.jpg',\n",
       " '//upload.wikimedia.org/wikipedia/commons/thumb/1/15/Disney_drawing_goofy.jpg/170px-Disney_drawing_goofy.jpg',\n",
       " '//upload.wikimedia.org/wikipedia/commons/thumb/8/8c/WaltDisneyplansDisneylandDec1954.jpg/220px-WaltDisneyplansDisneylandDec1954.jpg',\n",
       " '//upload.wikimedia.org/wikipedia/commons/thumb/f/ff/Walt_disney_portrait_right.jpg/170px-Walt_disney_portrait_right.jpg',\n",
       " '//upload.wikimedia.org/wikipedia/commons/thumb/1/1a/Walt_Disney_Grave.JPG/170px-Walt_Disney_Grave.JPG',\n",
       " '//upload.wikimedia.org/wikipedia/commons/thumb/2/2d/Roy_O._Disney_with_Company_at_Press_Conference.jpg/170px-Roy_O._Disney_with_Company_at_Press_Conference.jpg',\n",
       " '//upload.wikimedia.org/wikipedia/commons/thumb/1/13/DisneySchiphol1951.jpg/220px-DisneySchiphol1951.jpg',\n",
       " '//upload.wikimedia.org/wikipedia/commons/thumb/6/6c/Disney1968.jpg/170px-Disney1968.jpg',\n",
       " '//upload.wikimedia.org/wikipedia/commons/thumb/b/b0/Disney_Oscar_1953_%28cropped%29.jpg/170px-Disney_Oscar_1953_%28cropped%29.jpg',\n",
       " '//upload.wikimedia.org/wikipedia/en/thumb/4/4a/Commons-logo.svg/30px-Commons-logo.svg.png',\n",
       " '//upload.wikimedia.org/wikipedia/commons/thumb/4/4c/Wikisource-logo.svg/38px-Wikisource-logo.svg.png',\n",
       " '//upload.wikimedia.org/wikipedia/commons/thumb/f/fa/Wikiquote-logo.svg/34px-Wikiquote-logo.svg.png',\n",
       " '//upload.wikimedia.org/wikipedia/en/thumb/8/8a/OOjs_UI_icon_edit-ltr-progressive.svg/10px-OOjs_UI_icon_edit-ltr-progressive.svg.png',\n",
       " '//upload.wikimedia.org/wikipedia/en/thumb/8/8a/OOjs_UI_icon_edit-ltr-progressive.svg/10px-OOjs_UI_icon_edit-ltr-progressive.svg.png',\n",
       " '//upload.wikimedia.org/wikipedia/commons/thumb/e/e3/Disneyland_Resort_logo.svg/135px-Disneyland_Resort_logo.svg.png',\n",
       " '//upload.wikimedia.org/wikipedia/commons/thumb/d/da/Animation_disc.svg/20px-Animation_disc.svg.png',\n",
       " '//upload.wikimedia.org/wikipedia/en/thumb/6/69/P_vip.svg/19px-P_vip.svg.png',\n",
       " '//upload.wikimedia.org/wikipedia/commons/thumb/1/1a/Magic_Kingdom_castle.jpg/15px-Magic_Kingdom_castle.jpg',\n",
       " '//upload.wikimedia.org/wikipedia/en/thumb/e/e7/Video-x-generic.svg/19px-Video-x-generic.svg.png',\n",
       " '//upload.wikimedia.org/wikipedia/commons/thumb/a/a3/Flag_of_Los_Angeles_County%2C_California.svg/21px-Flag_of_Los_Angeles_County%2C_California.svg.png',\n",
       " '//upload.wikimedia.org/wikipedia/commons/thumb/8/8c/Blank_television_set.svg/21px-Blank_television_set.svg.png',\n",
       " '//upload.wikimedia.org/wikipedia/en/thumb/a/a4/Flag_of_the_United_States.svg/21px-Flag_of_the_United_States.svg.png',\n",
       " '//upload.wikimedia.org/wikipedia/en/thumb/4/4a/Commons-logo.svg/14px-Commons-logo.svg.png',\n",
       " '//upload.wikimedia.org/wikipedia/commons/thumb/f/fa/Wikiquote-logo.svg/16px-Wikiquote-logo.svg.png',\n",
       " '//upload.wikimedia.org/wikipedia/commons/thumb/4/4c/Wikisource-logo.svg/18px-Wikisource-logo.svg.png',\n",
       " '//upload.wikimedia.org/wikipedia/commons/thumb/f/ff/Wikidata-logo.svg/21px-Wikidata-logo.svg.png',\n",
       " '//upload.wikimedia.org/wikipedia/en/thumb/8/8a/OOjs_UI_icon_edit-ltr-progressive.svg/10px-OOjs_UI_icon_edit-ltr-progressive.svg.png',\n",
       " '//en.wikipedia.org/wiki/Special:CentralAutoLogin/start?type=1x1',\n",
       " '/static/images/footer/wikimedia-button.png',\n",
       " '/static/images/footer/poweredby_mediawiki_88x31.png']"
      ]
     },
     "execution_count": 40,
     "metadata": {},
     "output_type": "execute_result"
    }
   ],
   "source": [
    "images"
   ]
  },
  {
   "cell_type": "markdown",
   "metadata": {},
   "source": [
    "#### Retrieve an arbitary Wikipedia page of \"Python\" and create a list of links on that page"
   ]
  },
  {
   "cell_type": "code",
   "execution_count": 41,
   "metadata": {},
   "outputs": [],
   "source": [
    "# This is the url you will scrape in this exercise\n",
    "url4 ='https://en.wikipedia.org/wiki/Python_of_Byzantium' "
   ]
  },
  {
   "cell_type": "code",
   "execution_count": 42,
   "metadata": {},
   "outputs": [],
   "source": [
    "html= rq.get(url4).text"
   ]
  },
  {
   "cell_type": "code",
   "execution_count": 43,
   "metadata": {},
   "outputs": [],
   "source": [
    "biza= bs(html, \"html.parser\")"
   ]
  },
  {
   "cell_type": "code",
   "execution_count": 44,
   "metadata": {},
   "outputs": [
    {
     "data": {
      "text/plain": [
       "[<a id=\"top\"></a>,\n",
       " <a class=\"mw-jump-link\" href=\"#mw-head\">Jump to navigation</a>,\n",
       " <a class=\"mw-jump-link\" href=\"#searchInput\">Jump to search</a>,\n",
       " <a href=\"/wiki/Greek_language\" title=\"Greek language\">Greek</a>,\n",
       " <a href=\"/wiki/Ancient_Greek\" title=\"Ancient Greek\">ancient Greek</a>,\n",
       " <a href=\"/wiki/Isocrates\" title=\"Isocrates\">Isocrates</a>,\n",
       " <a href=\"/wiki/Pella\" title=\"Pella\">Pella</a>,\n",
       " <a href=\"/wiki/Peace_of_Philocrates\" title=\"Peace of Philocrates\">Peace of Philocrates</a>,\n",
       " <a href=\"/wiki/Philip_II_of_Macedon\" title=\"Philip II of Macedon\">Philip II of Macedon</a>,\n",
       " <a href=\"/wiki/Athens\" title=\"Athens\">Athens</a>,\n",
       " <a href=\"/wiki/Hegesippus_(orator)\" title=\"Hegesippus (orator)\">Hegesippus</a>,\n",
       " <a href=\"#cite_note-1\">[1]</a>,\n",
       " <a href=\"/wiki/Demosthenes\" title=\"Demosthenes\">Demosthenes</a>,\n",
       " <a href=\"/wiki/Python_of_Aenus\" title=\"Python of Aenus\">Python of Aenus</a>,\n",
       " <a href=\"/wiki/Cotys_I_(Odrysian)\" title=\"Cotys I (Odrysian)\">Cotys I</a>,\n",
       " <a class=\"mw-redirect\" href=\"/wiki/Odrysia\" title=\"Odrysia\">Odrysian Kingdom</a>,\n",
       " <a href=\"#cite_note-2\">[2]</a>,\n",
       " <a href=\"/w/index.php?title=Python_of_Byzantium&amp;action=edit&amp;section=1\" title=\"Edit section: References\">edit</a>,\n",
       " <a href=\"#cite_ref-1\">^</a>,\n",
       " <a class=\"mw-redirect\" href=\"/wiki/ISBN_(identifier)\" title=\"ISBN (identifier)\">ISBN</a>,\n",
       " <a href=\"/wiki/Special:BookSources/3-515-08396-0\" title=\"Special:BookSources/3-515-08396-0\">3-515-08396-0</a>,\n",
       " <a href=\"#cite_ref-2\">^</a>,\n",
       " <a class=\"mw-redirect\" href=\"/wiki/ISBN_(identifier)\" title=\"ISBN (identifier)\">ISBN</a>,\n",
       " <a href=\"/wiki/Special:BookSources/3-515-08396-0\" title=\"Special:BookSources/3-515-08396-0\">3-515-08396-0</a>,\n",
       " <a class=\"image\" href=\"/wiki/File:Homer_British_Museum.jpg\"><img alt=\"Stub icon\" data-file-height=\"800\" data-file-width=\"635\" decoding=\"async\" height=\"38\" src=\"//upload.wikimedia.org/wikipedia/commons/thumb/1/1c/Homer_British_Museum.jpg/30px-Homer_British_Museum.jpg\" srcset=\"//upload.wikimedia.org/wikipedia/commons/thumb/1/1c/Homer_British_Museum.jpg/45px-Homer_British_Museum.jpg 1.5x, //upload.wikimedia.org/wikipedia/commons/thumb/1/1c/Homer_British_Museum.jpg/60px-Homer_British_Museum.jpg 2x\" width=\"30\"/></a>,\n",
       " <a href=\"/wiki/Wikipedia:Stub\" title=\"Wikipedia:Stub\">stub</a>,\n",
       " <a class=\"external text\" href=\"https://en.wikipedia.org/w/index.php?title=Python_of_Byzantium&amp;action=edit\">expanding it</a>,\n",
       " <a href=\"/wiki/Template:AncientGreece-writer-stub\" title=\"Template:AncientGreece-writer-stub\"><abbr title=\"View this template\">v</abbr></a>,\n",
       " <a href=\"/wiki/Template_talk:AncientGreece-writer-stub\" title=\"Template talk:AncientGreece-writer-stub\"><abbr title=\"Discuss this template\">t</abbr></a>,\n",
       " <a class=\"external text\" href=\"https://en.wikipedia.org/w/index.php?title=Template:AncientGreece-writer-stub&amp;action=edit\"><abbr title=\"Edit this template\">e</abbr></a>,\n",
       " <a dir=\"ltr\" href=\"https://en.wikipedia.org/w/index.php?title=Python_of_Byzantium&amp;oldid=1059905526\">https://en.wikipedia.org/w/index.php?title=Python_of_Byzantium&amp;oldid=1059905526</a>,\n",
       " <a href=\"/wiki/Help:Category\" title=\"Help:Category\">Categories</a>,\n",
       " <a href=\"/wiki/Category:Ancient_Greek_rhetoricians\" title=\"Category:Ancient Greek rhetoricians\">Ancient Greek rhetoricians</a>,\n",
       " <a href=\"/wiki/Category:4th-century_BC_Ancient_Greek_statesmen\" title=\"Category:4th-century BC Ancient Greek statesmen\">4th-century BC Ancient Greek statesmen</a>,\n",
       " <a href=\"/wiki/Category:Ancient_Byzantines\" title=\"Category:Ancient Byzantines\">Ancient Byzantines</a>,\n",
       " <a href=\"/wiki/Category:4th-century_BC_Greek_people\" title=\"Category:4th-century BC Greek people\">4th-century BC Greek people</a>,\n",
       " <a href=\"/wiki/Category:Courtiers_of_Philip_II_of_Macedon\" title=\"Category:Courtiers of Philip II of Macedon\">Courtiers of Philip II of Macedon</a>,\n",
       " <a href=\"/wiki/Category:Ambassadors_of_Macedonia_(ancient_kingdom)\" title=\"Category:Ambassadors of Macedonia (ancient kingdom)\">Ambassadors of Macedonia (ancient kingdom)</a>,\n",
       " <a href=\"/wiki/Category:Ancient_Greek_writer_stubs\" title=\"Category:Ancient Greek writer stubs\">Ancient Greek writer stubs</a>,\n",
       " <a href=\"/wiki/Category:Articles_containing_Greek-language_text\" title=\"Category:Articles containing Greek-language text\">Articles containing Greek-language text</a>,\n",
       " <a href=\"/wiki/Category:All_stub_articles\" title=\"Category:All stub articles\">All stub articles</a>,\n",
       " <a accesskey=\"n\" href=\"/wiki/Special:MyTalk\" title=\"Discussion about edits from this IP address [n]\"><span>Talk</span></a>,\n",
       " <a accesskey=\"y\" href=\"/wiki/Special:MyContributions\" title=\"A list of edits made from this IP address [y]\"><span>Contributions</span></a>,\n",
       " <a href=\"/w/index.php?title=Special:CreateAccount&amp;returnto=Python+of+Byzantium\" title=\"You are encouraged to create an account and log in; however, it is not mandatory\"><span>Create account</span></a>,\n",
       " <a accesskey=\"o\" href=\"/w/index.php?title=Special:UserLogin&amp;returnto=Python+of+Byzantium\" title=\"You're encouraged to log in; however, it's not mandatory. [o]\"><span>Log in</span></a>,\n",
       " <a accesskey=\"c\" href=\"/wiki/Python_of_Byzantium\" title=\"View the content page [c]\"><span>Article</span></a>,\n",
       " <a accesskey=\"t\" href=\"/wiki/Talk:Python_of_Byzantium\" rel=\"discussion\" title=\"Discuss improvements to the content page [t]\"><span>Talk</span></a>,\n",
       " <a href=\"/wiki/Python_of_Byzantium\"><span>Read</span></a>,\n",
       " <a accesskey=\"e\" href=\"/w/index.php?title=Python_of_Byzantium&amp;action=edit\" title=\"Edit this page [e]\"><span>Edit</span></a>,\n",
       " <a accesskey=\"h\" href=\"/w/index.php?title=Python_of_Byzantium&amp;action=history\" title=\"Past revisions of this page [h]\"><span>View history</span></a>,\n",
       " <a class=\"mw-wiki-logo\" href=\"/wiki/Main_Page\" title=\"Visit the main page\"></a>,\n",
       " <a accesskey=\"z\" href=\"/wiki/Main_Page\" title=\"Visit the main page [z]\"><span>Main page</span></a>,\n",
       " <a href=\"/wiki/Wikipedia:Contents\" title=\"Guides to browsing Wikipedia\"><span>Contents</span></a>,\n",
       " <a href=\"/wiki/Portal:Current_events\" title=\"Articles related to current events\"><span>Current events</span></a>,\n",
       " <a accesskey=\"x\" href=\"/wiki/Special:Random\" title=\"Visit a randomly selected article [x]\"><span>Random article</span></a>,\n",
       " <a href=\"/wiki/Wikipedia:About\" title=\"Learn about Wikipedia and how it works\"><span>About Wikipedia</span></a>,\n",
       " <a href=\"//en.wikipedia.org/wiki/Wikipedia:Contact_us\" title=\"How to contact Wikipedia\"><span>Contact us</span></a>,\n",
       " <a href=\"https://donate.wikimedia.org/wiki/Special:FundraiserRedirector?utm_source=donate&amp;utm_medium=sidebar&amp;utm_campaign=C13_en.wikipedia.org&amp;uselang=en\" title=\"Support us by donating to the Wikimedia Foundation\"><span>Donate</span></a>,\n",
       " <a href=\"/wiki/Help:Contents\" title=\"Guidance on how to use and edit Wikipedia\"><span>Help</span></a>,\n",
       " <a href=\"/wiki/Help:Introduction\" title=\"Learn how to edit Wikipedia\"><span>Learn to edit</span></a>,\n",
       " <a href=\"/wiki/Wikipedia:Community_portal\" title=\"The hub for editors\"><span>Community portal</span></a>,\n",
       " <a accesskey=\"r\" href=\"/wiki/Special:RecentChanges\" title=\"A list of recent changes to Wikipedia [r]\"><span>Recent changes</span></a>,\n",
       " <a href=\"/wiki/Wikipedia:File_Upload_Wizard\" title=\"Add images or other media for use on Wikipedia\"><span>Upload file</span></a>,\n",
       " <a accesskey=\"j\" href=\"/wiki/Special:WhatLinksHere/Python_of_Byzantium\" title=\"List of all English Wikipedia pages containing links to this page [j]\"><span>What links here</span></a>,\n",
       " <a accesskey=\"k\" href=\"/wiki/Special:RecentChangesLinked/Python_of_Byzantium\" rel=\"nofollow\" title=\"Recent changes in pages linked from this page [k]\"><span>Related changes</span></a>,\n",
       " <a accesskey=\"u\" href=\"/wiki/Wikipedia:File_Upload_Wizard\" title=\"Upload files [u]\"><span>Upload file</span></a>,\n",
       " <a accesskey=\"q\" href=\"/wiki/Special:SpecialPages\" title=\"A list of all special pages [q]\"><span>Special pages</span></a>,\n",
       " <a href=\"/w/index.php?title=Python_of_Byzantium&amp;oldid=1059905526\" title=\"Permanent link to this revision of this page\"><span>Permanent link</span></a>,\n",
       " <a href=\"/w/index.php?title=Python_of_Byzantium&amp;action=info\" title=\"More information about this page\"><span>Page information</span></a>,\n",
       " <a href=\"/w/index.php?title=Special:CiteThisPage&amp;page=Python_of_Byzantium&amp;id=1059905526&amp;wpFormIdentifier=titleform\" title=\"Information on how to cite this page\"><span>Cite this page</span></a>,\n",
       " <a accesskey=\"g\" href=\"https://www.wikidata.org/wiki/Special:EntityPage/Q15723\" title=\"Structured data on this page hosted by Wikidata [g]\"><span>Wikidata item</span></a>,\n",
       " <a href=\"/w/index.php?title=Special:DownloadAsPdf&amp;page=Python_of_Byzantium&amp;action=show-download-screen\" title=\"Download this page as a PDF file\"><span>Download as PDF</span></a>,\n",
       " <a accesskey=\"p\" href=\"/w/index.php?title=Python_of_Byzantium&amp;printable=yes\" title=\"Printable version of this page [p]\"><span>Printable version</span></a>,\n",
       " <a class=\"interlanguage-link-target\" href=\"https://fr.wikipedia.org/wiki/Python_de_Byzance\" hreflang=\"fr\" lang=\"fr\" title=\"Python de Byzance – French\"><span>Français</span></a>,\n",
       " <a class=\"interlanguage-link-target\" href=\"https://it.wikipedia.org/wiki/Pitone_di_Bisanzio\" hreflang=\"it\" lang=\"it\" title=\"Pitone di Bisanzio – Italian\"><span>Italiano</span></a>,\n",
       " <a class=\"wbc-editpage\" href=\"https://www.wikidata.org/wiki/Special:EntityPage/Q15723#sitelinks-wikipedia\" title=\"Edit interlanguage links\">Edit links</a>,\n",
       " <a href=\"//en.wikipedia.org/wiki/Wikipedia:Text_of_Creative_Commons_Attribution-ShareAlike_3.0_Unported_License\" rel=\"license\">Creative Commons Attribution-ShareAlike License 3.0</a>,\n",
       " <a href=\"//creativecommons.org/licenses/by-sa/3.0/\" rel=\"license\" style=\"display:none;\"></a>,\n",
       " <a href=\"//foundation.wikimedia.org/wiki/Terms_of_Use\">Terms of Use</a>,\n",
       " <a href=\"//foundation.wikimedia.org/wiki/Privacy_policy\">Privacy Policy</a>,\n",
       " <a href=\"//www.wikimediafoundation.org/\">Wikimedia Foundation, Inc.</a>,\n",
       " <a href=\"https://foundation.wikimedia.org/wiki/Privacy_policy\">Privacy policy</a>,\n",
       " <a href=\"/wiki/Wikipedia:About\">About Wikipedia</a>,\n",
       " <a href=\"/wiki/Wikipedia:General_disclaimer\">Disclaimers</a>,\n",
       " <a href=\"//en.wikipedia.org/wiki/Wikipedia:Contact_us\">Contact Wikipedia</a>,\n",
       " <a class=\"noprint stopMobileRedirectToggle\" href=\"//en.m.wikipedia.org/w/index.php?title=Python_of_Byzantium&amp;mobileaction=toggle_view_mobile\">Mobile view</a>,\n",
       " <a href=\"https://developer.wikimedia.org\">Developers</a>,\n",
       " <a href=\"https://stats.wikimedia.org/#/en.wikipedia.org\">Statistics</a>,\n",
       " <a href=\"https://foundation.wikimedia.org/wiki/Cookie_statement\">Cookie statement</a>,\n",
       " <a href=\"https://wikimediafoundation.org/\"><img alt=\"Wikimedia Foundation\" height=\"31\" loading=\"lazy\" src=\"/static/images/footer/wikimedia-button.png\" srcset=\"/static/images/footer/wikimedia-button-1.5x.png 1.5x, /static/images/footer/wikimedia-button-2x.png 2x\" width=\"88\"/></a>,\n",
       " <a href=\"https://www.mediawiki.org/\"><img alt=\"Powered by MediaWiki\" height=\"31\" loading=\"lazy\" src=\"/static/images/footer/poweredby_mediawiki_88x31.png\" srcset=\"/static/images/footer/poweredby_mediawiki_132x47.png 1.5x, /static/images/footer/poweredby_mediawiki_176x62.png 2x\" width=\"88\"/></a>]"
      ]
     },
     "execution_count": 44,
     "metadata": {},
     "output_type": "execute_result"
    }
   ],
   "source": [
    "biza.find_all('a')"
   ]
  },
  {
   "cell_type": "code",
   "execution_count": 45,
   "metadata": {},
   "outputs": [],
   "source": [
    "zancio= biza.find_all('a', href=True)"
   ]
  },
  {
   "cell_type": "code",
   "execution_count": 46,
   "metadata": {},
   "outputs": [
    {
     "data": {
      "text/plain": [
       "[<a class=\"mw-jump-link\" href=\"#mw-head\">Jump to navigation</a>,\n",
       " <a class=\"mw-jump-link\" href=\"#searchInput\">Jump to search</a>,\n",
       " <a href=\"/wiki/Greek_language\" title=\"Greek language\">Greek</a>,\n",
       " <a href=\"/wiki/Ancient_Greek\" title=\"Ancient Greek\">ancient Greek</a>,\n",
       " <a href=\"/wiki/Isocrates\" title=\"Isocrates\">Isocrates</a>,\n",
       " <a href=\"/wiki/Pella\" title=\"Pella\">Pella</a>,\n",
       " <a href=\"/wiki/Peace_of_Philocrates\" title=\"Peace of Philocrates\">Peace of Philocrates</a>,\n",
       " <a href=\"/wiki/Philip_II_of_Macedon\" title=\"Philip II of Macedon\">Philip II of Macedon</a>,\n",
       " <a href=\"/wiki/Athens\" title=\"Athens\">Athens</a>,\n",
       " <a href=\"/wiki/Hegesippus_(orator)\" title=\"Hegesippus (orator)\">Hegesippus</a>,\n",
       " <a href=\"#cite_note-1\">[1]</a>,\n",
       " <a href=\"/wiki/Demosthenes\" title=\"Demosthenes\">Demosthenes</a>,\n",
       " <a href=\"/wiki/Python_of_Aenus\" title=\"Python of Aenus\">Python of Aenus</a>,\n",
       " <a href=\"/wiki/Cotys_I_(Odrysian)\" title=\"Cotys I (Odrysian)\">Cotys I</a>,\n",
       " <a class=\"mw-redirect\" href=\"/wiki/Odrysia\" title=\"Odrysia\">Odrysian Kingdom</a>,\n",
       " <a href=\"#cite_note-2\">[2]</a>,\n",
       " <a href=\"/w/index.php?title=Python_of_Byzantium&amp;action=edit&amp;section=1\" title=\"Edit section: References\">edit</a>,\n",
       " <a href=\"#cite_ref-1\">^</a>,\n",
       " <a class=\"mw-redirect\" href=\"/wiki/ISBN_(identifier)\" title=\"ISBN (identifier)\">ISBN</a>,\n",
       " <a href=\"/wiki/Special:BookSources/3-515-08396-0\" title=\"Special:BookSources/3-515-08396-0\">3-515-08396-0</a>,\n",
       " <a href=\"#cite_ref-2\">^</a>,\n",
       " <a class=\"mw-redirect\" href=\"/wiki/ISBN_(identifier)\" title=\"ISBN (identifier)\">ISBN</a>,\n",
       " <a href=\"/wiki/Special:BookSources/3-515-08396-0\" title=\"Special:BookSources/3-515-08396-0\">3-515-08396-0</a>,\n",
       " <a class=\"image\" href=\"/wiki/File:Homer_British_Museum.jpg\"><img alt=\"Stub icon\" data-file-height=\"800\" data-file-width=\"635\" decoding=\"async\" height=\"38\" src=\"//upload.wikimedia.org/wikipedia/commons/thumb/1/1c/Homer_British_Museum.jpg/30px-Homer_British_Museum.jpg\" srcset=\"//upload.wikimedia.org/wikipedia/commons/thumb/1/1c/Homer_British_Museum.jpg/45px-Homer_British_Museum.jpg 1.5x, //upload.wikimedia.org/wikipedia/commons/thumb/1/1c/Homer_British_Museum.jpg/60px-Homer_British_Museum.jpg 2x\" width=\"30\"/></a>,\n",
       " <a href=\"/wiki/Wikipedia:Stub\" title=\"Wikipedia:Stub\">stub</a>,\n",
       " <a class=\"external text\" href=\"https://en.wikipedia.org/w/index.php?title=Python_of_Byzantium&amp;action=edit\">expanding it</a>,\n",
       " <a href=\"/wiki/Template:AncientGreece-writer-stub\" title=\"Template:AncientGreece-writer-stub\"><abbr title=\"View this template\">v</abbr></a>,\n",
       " <a href=\"/wiki/Template_talk:AncientGreece-writer-stub\" title=\"Template talk:AncientGreece-writer-stub\"><abbr title=\"Discuss this template\">t</abbr></a>,\n",
       " <a class=\"external text\" href=\"https://en.wikipedia.org/w/index.php?title=Template:AncientGreece-writer-stub&amp;action=edit\"><abbr title=\"Edit this template\">e</abbr></a>,\n",
       " <a dir=\"ltr\" href=\"https://en.wikipedia.org/w/index.php?title=Python_of_Byzantium&amp;oldid=1059905526\">https://en.wikipedia.org/w/index.php?title=Python_of_Byzantium&amp;oldid=1059905526</a>,\n",
       " <a href=\"/wiki/Help:Category\" title=\"Help:Category\">Categories</a>,\n",
       " <a href=\"/wiki/Category:Ancient_Greek_rhetoricians\" title=\"Category:Ancient Greek rhetoricians\">Ancient Greek rhetoricians</a>,\n",
       " <a href=\"/wiki/Category:4th-century_BC_Ancient_Greek_statesmen\" title=\"Category:4th-century BC Ancient Greek statesmen\">4th-century BC Ancient Greek statesmen</a>,\n",
       " <a href=\"/wiki/Category:Ancient_Byzantines\" title=\"Category:Ancient Byzantines\">Ancient Byzantines</a>,\n",
       " <a href=\"/wiki/Category:4th-century_BC_Greek_people\" title=\"Category:4th-century BC Greek people\">4th-century BC Greek people</a>,\n",
       " <a href=\"/wiki/Category:Courtiers_of_Philip_II_of_Macedon\" title=\"Category:Courtiers of Philip II of Macedon\">Courtiers of Philip II of Macedon</a>,\n",
       " <a href=\"/wiki/Category:Ambassadors_of_Macedonia_(ancient_kingdom)\" title=\"Category:Ambassadors of Macedonia (ancient kingdom)\">Ambassadors of Macedonia (ancient kingdom)</a>,\n",
       " <a href=\"/wiki/Category:Ancient_Greek_writer_stubs\" title=\"Category:Ancient Greek writer stubs\">Ancient Greek writer stubs</a>,\n",
       " <a href=\"/wiki/Category:Articles_containing_Greek-language_text\" title=\"Category:Articles containing Greek-language text\">Articles containing Greek-language text</a>,\n",
       " <a href=\"/wiki/Category:All_stub_articles\" title=\"Category:All stub articles\">All stub articles</a>,\n",
       " <a accesskey=\"n\" href=\"/wiki/Special:MyTalk\" title=\"Discussion about edits from this IP address [n]\"><span>Talk</span></a>,\n",
       " <a accesskey=\"y\" href=\"/wiki/Special:MyContributions\" title=\"A list of edits made from this IP address [y]\"><span>Contributions</span></a>,\n",
       " <a href=\"/w/index.php?title=Special:CreateAccount&amp;returnto=Python+of+Byzantium\" title=\"You are encouraged to create an account and log in; however, it is not mandatory\"><span>Create account</span></a>,\n",
       " <a accesskey=\"o\" href=\"/w/index.php?title=Special:UserLogin&amp;returnto=Python+of+Byzantium\" title=\"You're encouraged to log in; however, it's not mandatory. [o]\"><span>Log in</span></a>,\n",
       " <a accesskey=\"c\" href=\"/wiki/Python_of_Byzantium\" title=\"View the content page [c]\"><span>Article</span></a>,\n",
       " <a accesskey=\"t\" href=\"/wiki/Talk:Python_of_Byzantium\" rel=\"discussion\" title=\"Discuss improvements to the content page [t]\"><span>Talk</span></a>,\n",
       " <a href=\"/wiki/Python_of_Byzantium\"><span>Read</span></a>,\n",
       " <a accesskey=\"e\" href=\"/w/index.php?title=Python_of_Byzantium&amp;action=edit\" title=\"Edit this page [e]\"><span>Edit</span></a>,\n",
       " <a accesskey=\"h\" href=\"/w/index.php?title=Python_of_Byzantium&amp;action=history\" title=\"Past revisions of this page [h]\"><span>View history</span></a>,\n",
       " <a class=\"mw-wiki-logo\" href=\"/wiki/Main_Page\" title=\"Visit the main page\"></a>,\n",
       " <a accesskey=\"z\" href=\"/wiki/Main_Page\" title=\"Visit the main page [z]\"><span>Main page</span></a>,\n",
       " <a href=\"/wiki/Wikipedia:Contents\" title=\"Guides to browsing Wikipedia\"><span>Contents</span></a>,\n",
       " <a href=\"/wiki/Portal:Current_events\" title=\"Articles related to current events\"><span>Current events</span></a>,\n",
       " <a accesskey=\"x\" href=\"/wiki/Special:Random\" title=\"Visit a randomly selected article [x]\"><span>Random article</span></a>,\n",
       " <a href=\"/wiki/Wikipedia:About\" title=\"Learn about Wikipedia and how it works\"><span>About Wikipedia</span></a>,\n",
       " <a href=\"//en.wikipedia.org/wiki/Wikipedia:Contact_us\" title=\"How to contact Wikipedia\"><span>Contact us</span></a>,\n",
       " <a href=\"https://donate.wikimedia.org/wiki/Special:FundraiserRedirector?utm_source=donate&amp;utm_medium=sidebar&amp;utm_campaign=C13_en.wikipedia.org&amp;uselang=en\" title=\"Support us by donating to the Wikimedia Foundation\"><span>Donate</span></a>,\n",
       " <a href=\"/wiki/Help:Contents\" title=\"Guidance on how to use and edit Wikipedia\"><span>Help</span></a>,\n",
       " <a href=\"/wiki/Help:Introduction\" title=\"Learn how to edit Wikipedia\"><span>Learn to edit</span></a>,\n",
       " <a href=\"/wiki/Wikipedia:Community_portal\" title=\"The hub for editors\"><span>Community portal</span></a>,\n",
       " <a accesskey=\"r\" href=\"/wiki/Special:RecentChanges\" title=\"A list of recent changes to Wikipedia [r]\"><span>Recent changes</span></a>,\n",
       " <a href=\"/wiki/Wikipedia:File_Upload_Wizard\" title=\"Add images or other media for use on Wikipedia\"><span>Upload file</span></a>,\n",
       " <a accesskey=\"j\" href=\"/wiki/Special:WhatLinksHere/Python_of_Byzantium\" title=\"List of all English Wikipedia pages containing links to this page [j]\"><span>What links here</span></a>,\n",
       " <a accesskey=\"k\" href=\"/wiki/Special:RecentChangesLinked/Python_of_Byzantium\" rel=\"nofollow\" title=\"Recent changes in pages linked from this page [k]\"><span>Related changes</span></a>,\n",
       " <a accesskey=\"u\" href=\"/wiki/Wikipedia:File_Upload_Wizard\" title=\"Upload files [u]\"><span>Upload file</span></a>,\n",
       " <a accesskey=\"q\" href=\"/wiki/Special:SpecialPages\" title=\"A list of all special pages [q]\"><span>Special pages</span></a>,\n",
       " <a href=\"/w/index.php?title=Python_of_Byzantium&amp;oldid=1059905526\" title=\"Permanent link to this revision of this page\"><span>Permanent link</span></a>,\n",
       " <a href=\"/w/index.php?title=Python_of_Byzantium&amp;action=info\" title=\"More information about this page\"><span>Page information</span></a>,\n",
       " <a href=\"/w/index.php?title=Special:CiteThisPage&amp;page=Python_of_Byzantium&amp;id=1059905526&amp;wpFormIdentifier=titleform\" title=\"Information on how to cite this page\"><span>Cite this page</span></a>,\n",
       " <a accesskey=\"g\" href=\"https://www.wikidata.org/wiki/Special:EntityPage/Q15723\" title=\"Structured data on this page hosted by Wikidata [g]\"><span>Wikidata item</span></a>,\n",
       " <a href=\"/w/index.php?title=Special:DownloadAsPdf&amp;page=Python_of_Byzantium&amp;action=show-download-screen\" title=\"Download this page as a PDF file\"><span>Download as PDF</span></a>,\n",
       " <a accesskey=\"p\" href=\"/w/index.php?title=Python_of_Byzantium&amp;printable=yes\" title=\"Printable version of this page [p]\"><span>Printable version</span></a>,\n",
       " <a class=\"interlanguage-link-target\" href=\"https://fr.wikipedia.org/wiki/Python_de_Byzance\" hreflang=\"fr\" lang=\"fr\" title=\"Python de Byzance – French\"><span>Français</span></a>,\n",
       " <a class=\"interlanguage-link-target\" href=\"https://it.wikipedia.org/wiki/Pitone_di_Bisanzio\" hreflang=\"it\" lang=\"it\" title=\"Pitone di Bisanzio – Italian\"><span>Italiano</span></a>,\n",
       " <a class=\"wbc-editpage\" href=\"https://www.wikidata.org/wiki/Special:EntityPage/Q15723#sitelinks-wikipedia\" title=\"Edit interlanguage links\">Edit links</a>,\n",
       " <a href=\"//en.wikipedia.org/wiki/Wikipedia:Text_of_Creative_Commons_Attribution-ShareAlike_3.0_Unported_License\" rel=\"license\">Creative Commons Attribution-ShareAlike License 3.0</a>,\n",
       " <a href=\"//creativecommons.org/licenses/by-sa/3.0/\" rel=\"license\" style=\"display:none;\"></a>,\n",
       " <a href=\"//foundation.wikimedia.org/wiki/Terms_of_Use\">Terms of Use</a>,\n",
       " <a href=\"//foundation.wikimedia.org/wiki/Privacy_policy\">Privacy Policy</a>,\n",
       " <a href=\"//www.wikimediafoundation.org/\">Wikimedia Foundation, Inc.</a>,\n",
       " <a href=\"https://foundation.wikimedia.org/wiki/Privacy_policy\">Privacy policy</a>,\n",
       " <a href=\"/wiki/Wikipedia:About\">About Wikipedia</a>,\n",
       " <a href=\"/wiki/Wikipedia:General_disclaimer\">Disclaimers</a>,\n",
       " <a href=\"//en.wikipedia.org/wiki/Wikipedia:Contact_us\">Contact Wikipedia</a>,\n",
       " <a class=\"noprint stopMobileRedirectToggle\" href=\"//en.m.wikipedia.org/w/index.php?title=Python_of_Byzantium&amp;mobileaction=toggle_view_mobile\">Mobile view</a>,\n",
       " <a href=\"https://developer.wikimedia.org\">Developers</a>,\n",
       " <a href=\"https://stats.wikimedia.org/#/en.wikipedia.org\">Statistics</a>,\n",
       " <a href=\"https://foundation.wikimedia.org/wiki/Cookie_statement\">Cookie statement</a>,\n",
       " <a href=\"https://wikimediafoundation.org/\"><img alt=\"Wikimedia Foundation\" height=\"31\" loading=\"lazy\" src=\"/static/images/footer/wikimedia-button.png\" srcset=\"/static/images/footer/wikimedia-button-1.5x.png 1.5x, /static/images/footer/wikimedia-button-2x.png 2x\" width=\"88\"/></a>,\n",
       " <a href=\"https://www.mediawiki.org/\"><img alt=\"Powered by MediaWiki\" height=\"31\" loading=\"lazy\" src=\"/static/images/footer/poweredby_mediawiki_88x31.png\" srcset=\"/static/images/footer/poweredby_mediawiki_132x47.png 1.5x, /static/images/footer/poweredby_mediawiki_176x62.png 2x\" width=\"88\"/></a>]"
      ]
     },
     "execution_count": 46,
     "metadata": {},
     "output_type": "execute_result"
    }
   ],
   "source": [
    "zancio"
   ]
  },
  {
   "cell_type": "code",
   "execution_count": 47,
   "metadata": {},
   "outputs": [],
   "source": [
    "link_lst=[]"
   ]
  },
  {
   "cell_type": "code",
   "execution_count": 48,
   "metadata": {},
   "outputs": [
    {
     "name": "stdout",
     "output_type": "stream",
     "text": [
      "['#mw-head', '#searchInput', '/wiki/Greek_language', '/wiki/Ancient_Greek', '/wiki/Isocrates', '/wiki/Pella', '/wiki/Peace_of_Philocrates', '/wiki/Philip_II_of_Macedon', '/wiki/Athens', '/wiki/Hegesippus_(orator)', '#cite_note-1', '/wiki/Demosthenes', '/wiki/Python_of_Aenus', '/wiki/Cotys_I_(Odrysian)', '/wiki/Odrysia', '#cite_note-2', '/w/index.php?title=Python_of_Byzantium&action=edit&section=1', '#cite_ref-1', '/wiki/ISBN_(identifier)', '/wiki/Special:BookSources/3-515-08396-0', '#cite_ref-2', '/wiki/ISBN_(identifier)', '/wiki/Special:BookSources/3-515-08396-0', '/wiki/File:Homer_British_Museum.jpg', '/wiki/Wikipedia:Stub', 'https://en.wikipedia.org/w/index.php?title=Python_of_Byzantium&action=edit', '/wiki/Template:AncientGreece-writer-stub', '/wiki/Template_talk:AncientGreece-writer-stub', 'https://en.wikipedia.org/w/index.php?title=Template:AncientGreece-writer-stub&action=edit', 'https://en.wikipedia.org/w/index.php?title=Python_of_Byzantium&oldid=1059905526', '/wiki/Help:Category', '/wiki/Category:Ancient_Greek_rhetoricians', '/wiki/Category:4th-century_BC_Ancient_Greek_statesmen', '/wiki/Category:Ancient_Byzantines', '/wiki/Category:4th-century_BC_Greek_people', '/wiki/Category:Courtiers_of_Philip_II_of_Macedon', '/wiki/Category:Ambassadors_of_Macedonia_(ancient_kingdom)', '/wiki/Category:Ancient_Greek_writer_stubs', '/wiki/Category:Articles_containing_Greek-language_text', '/wiki/Category:All_stub_articles', '/wiki/Special:MyTalk', '/wiki/Special:MyContributions', '/w/index.php?title=Special:CreateAccount&returnto=Python+of+Byzantium', '/w/index.php?title=Special:UserLogin&returnto=Python+of+Byzantium', '/wiki/Python_of_Byzantium', '/wiki/Talk:Python_of_Byzantium', '/wiki/Python_of_Byzantium', '/w/index.php?title=Python_of_Byzantium&action=edit', '/w/index.php?title=Python_of_Byzantium&action=history', '/wiki/Main_Page', '/wiki/Main_Page', '/wiki/Wikipedia:Contents', '/wiki/Portal:Current_events', '/wiki/Special:Random', '/wiki/Wikipedia:About', '//en.wikipedia.org/wiki/Wikipedia:Contact_us', 'https://donate.wikimedia.org/wiki/Special:FundraiserRedirector?utm_source=donate&utm_medium=sidebar&utm_campaign=C13_en.wikipedia.org&uselang=en', '/wiki/Help:Contents', '/wiki/Help:Introduction', '/wiki/Wikipedia:Community_portal', '/wiki/Special:RecentChanges', '/wiki/Wikipedia:File_Upload_Wizard', '/wiki/Special:WhatLinksHere/Python_of_Byzantium', '/wiki/Special:RecentChangesLinked/Python_of_Byzantium', '/wiki/Wikipedia:File_Upload_Wizard', '/wiki/Special:SpecialPages', '/w/index.php?title=Python_of_Byzantium&oldid=1059905526', '/w/index.php?title=Python_of_Byzantium&action=info', '/w/index.php?title=Special:CiteThisPage&page=Python_of_Byzantium&id=1059905526&wpFormIdentifier=titleform', 'https://www.wikidata.org/wiki/Special:EntityPage/Q15723', '/w/index.php?title=Special:DownloadAsPdf&page=Python_of_Byzantium&action=show-download-screen', '/w/index.php?title=Python_of_Byzantium&printable=yes', 'https://fr.wikipedia.org/wiki/Python_de_Byzance', 'https://it.wikipedia.org/wiki/Pitone_di_Bisanzio', 'https://www.wikidata.org/wiki/Special:EntityPage/Q15723#sitelinks-wikipedia', '//en.wikipedia.org/wiki/Wikipedia:Text_of_Creative_Commons_Attribution-ShareAlike_3.0_Unported_License', '//creativecommons.org/licenses/by-sa/3.0/', '//foundation.wikimedia.org/wiki/Terms_of_Use', '//foundation.wikimedia.org/wiki/Privacy_policy', '//www.wikimediafoundation.org/', 'https://foundation.wikimedia.org/wiki/Privacy_policy', '/wiki/Wikipedia:About', '/wiki/Wikipedia:General_disclaimer', '//en.wikipedia.org/wiki/Wikipedia:Contact_us', '//en.m.wikipedia.org/w/index.php?title=Python_of_Byzantium&mobileaction=toggle_view_mobile', 'https://developer.wikimedia.org', 'https://stats.wikimedia.org/#/en.wikipedia.org', 'https://foundation.wikimedia.org/wiki/Cookie_statement', 'https://wikimediafoundation.org/', 'https://www.mediawiki.org/']\n"
     ]
    }
   ],
   "source": [
    "for i in zancio:\n",
    "    link_lst.append(i.attrs['href'])\n",
    "print(link_lst)"
   ]
  },
  {
   "cell_type": "code",
   "execution_count": 49,
   "metadata": {
    "scrolled": false
   },
   "outputs": [
    {
     "data": {
      "text/plain": [
       "['#mw-head',\n",
       " '#searchInput',\n",
       " '/wiki/Greek_language',\n",
       " '/wiki/Ancient_Greek',\n",
       " '/wiki/Isocrates',\n",
       " '/wiki/Pella',\n",
       " '/wiki/Peace_of_Philocrates',\n",
       " '/wiki/Philip_II_of_Macedon',\n",
       " '/wiki/Athens',\n",
       " '/wiki/Hegesippus_(orator)',\n",
       " '#cite_note-1',\n",
       " '/wiki/Demosthenes',\n",
       " '/wiki/Python_of_Aenus',\n",
       " '/wiki/Cotys_I_(Odrysian)',\n",
       " '/wiki/Odrysia',\n",
       " '#cite_note-2',\n",
       " '/w/index.php?title=Python_of_Byzantium&action=edit&section=1',\n",
       " '#cite_ref-1',\n",
       " '/wiki/ISBN_(identifier)',\n",
       " '/wiki/Special:BookSources/3-515-08396-0',\n",
       " '#cite_ref-2',\n",
       " '/wiki/ISBN_(identifier)',\n",
       " '/wiki/Special:BookSources/3-515-08396-0',\n",
       " '/wiki/File:Homer_British_Museum.jpg',\n",
       " '/wiki/Wikipedia:Stub',\n",
       " 'https://en.wikipedia.org/w/index.php?title=Python_of_Byzantium&action=edit',\n",
       " '/wiki/Template:AncientGreece-writer-stub',\n",
       " '/wiki/Template_talk:AncientGreece-writer-stub',\n",
       " 'https://en.wikipedia.org/w/index.php?title=Template:AncientGreece-writer-stub&action=edit',\n",
       " 'https://en.wikipedia.org/w/index.php?title=Python_of_Byzantium&oldid=1059905526',\n",
       " '/wiki/Help:Category',\n",
       " '/wiki/Category:Ancient_Greek_rhetoricians',\n",
       " '/wiki/Category:4th-century_BC_Ancient_Greek_statesmen',\n",
       " '/wiki/Category:Ancient_Byzantines',\n",
       " '/wiki/Category:4th-century_BC_Greek_people',\n",
       " '/wiki/Category:Courtiers_of_Philip_II_of_Macedon',\n",
       " '/wiki/Category:Ambassadors_of_Macedonia_(ancient_kingdom)',\n",
       " '/wiki/Category:Ancient_Greek_writer_stubs',\n",
       " '/wiki/Category:Articles_containing_Greek-language_text',\n",
       " '/wiki/Category:All_stub_articles',\n",
       " '/wiki/Special:MyTalk',\n",
       " '/wiki/Special:MyContributions',\n",
       " '/w/index.php?title=Special:CreateAccount&returnto=Python+of+Byzantium',\n",
       " '/w/index.php?title=Special:UserLogin&returnto=Python+of+Byzantium',\n",
       " '/wiki/Python_of_Byzantium',\n",
       " '/wiki/Talk:Python_of_Byzantium',\n",
       " '/wiki/Python_of_Byzantium',\n",
       " '/w/index.php?title=Python_of_Byzantium&action=edit',\n",
       " '/w/index.php?title=Python_of_Byzantium&action=history',\n",
       " '/wiki/Main_Page',\n",
       " '/wiki/Main_Page',\n",
       " '/wiki/Wikipedia:Contents',\n",
       " '/wiki/Portal:Current_events',\n",
       " '/wiki/Special:Random',\n",
       " '/wiki/Wikipedia:About',\n",
       " '//en.wikipedia.org/wiki/Wikipedia:Contact_us',\n",
       " 'https://donate.wikimedia.org/wiki/Special:FundraiserRedirector?utm_source=donate&utm_medium=sidebar&utm_campaign=C13_en.wikipedia.org&uselang=en',\n",
       " '/wiki/Help:Contents',\n",
       " '/wiki/Help:Introduction',\n",
       " '/wiki/Wikipedia:Community_portal',\n",
       " '/wiki/Special:RecentChanges',\n",
       " '/wiki/Wikipedia:File_Upload_Wizard',\n",
       " '/wiki/Special:WhatLinksHere/Python_of_Byzantium',\n",
       " '/wiki/Special:RecentChangesLinked/Python_of_Byzantium',\n",
       " '/wiki/Wikipedia:File_Upload_Wizard',\n",
       " '/wiki/Special:SpecialPages',\n",
       " '/w/index.php?title=Python_of_Byzantium&oldid=1059905526',\n",
       " '/w/index.php?title=Python_of_Byzantium&action=info',\n",
       " '/w/index.php?title=Special:CiteThisPage&page=Python_of_Byzantium&id=1059905526&wpFormIdentifier=titleform',\n",
       " 'https://www.wikidata.org/wiki/Special:EntityPage/Q15723',\n",
       " '/w/index.php?title=Special:DownloadAsPdf&page=Python_of_Byzantium&action=show-download-screen',\n",
       " '/w/index.php?title=Python_of_Byzantium&printable=yes',\n",
       " 'https://fr.wikipedia.org/wiki/Python_de_Byzance',\n",
       " 'https://it.wikipedia.org/wiki/Pitone_di_Bisanzio',\n",
       " 'https://www.wikidata.org/wiki/Special:EntityPage/Q15723#sitelinks-wikipedia',\n",
       " '//en.wikipedia.org/wiki/Wikipedia:Text_of_Creative_Commons_Attribution-ShareAlike_3.0_Unported_License',\n",
       " '//creativecommons.org/licenses/by-sa/3.0/',\n",
       " '//foundation.wikimedia.org/wiki/Terms_of_Use',\n",
       " '//foundation.wikimedia.org/wiki/Privacy_policy',\n",
       " '//www.wikimediafoundation.org/',\n",
       " 'https://foundation.wikimedia.org/wiki/Privacy_policy',\n",
       " '/wiki/Wikipedia:About',\n",
       " '/wiki/Wikipedia:General_disclaimer',\n",
       " '//en.wikipedia.org/wiki/Wikipedia:Contact_us',\n",
       " '//en.m.wikipedia.org/w/index.php?title=Python_of_Byzantium&mobileaction=toggle_view_mobile',\n",
       " 'https://developer.wikimedia.org',\n",
       " 'https://stats.wikimedia.org/#/en.wikipedia.org',\n",
       " 'https://foundation.wikimedia.org/wiki/Cookie_statement',\n",
       " 'https://wikimediafoundation.org/',\n",
       " 'https://www.mediawiki.org/']"
      ]
     },
     "execution_count": 49,
     "metadata": {},
     "output_type": "execute_result"
    }
   ],
   "source": [
    "link_lst"
   ]
  },
  {
   "cell_type": "code",
   "execution_count": 50,
   "metadata": {},
   "outputs": [
    {
     "data": {
      "text/plain": [
       "'\\nfor i in link_lst:\\n    if \\'https://\\' in i:\\n        link_lst.append(i)\\n    else:\\n        link_lst.append(\"https://en.wikipedia.org/\"+i)\\nprint(link_lst)\\n'"
      ]
     },
     "execution_count": 50,
     "metadata": {},
     "output_type": "execute_result"
    }
   ],
   "source": [
    "'''\n",
    "for i in link_lst:\n",
    "    if 'https://' in i:\n",
    "        link_lst.append(i)\n",
    "    else:\n",
    "        link_lst.append(\"https://en.wikipedia.org/\"+i)\n",
    "print(link_lst)\n",
    "'''"
   ]
  },
  {
   "cell_type": "markdown",
   "metadata": {},
   "source": [
    "#### Number of Titles that have changed in the United States Code since its last release point "
   ]
  },
  {
   "cell_type": "code",
   "execution_count": 51,
   "metadata": {},
   "outputs": [],
   "source": [
    "# This is the url you will scrape in this exercise\n",
    "url = 'http://uscode.house.gov/download/download.shtml'"
   ]
  },
  {
   "cell_type": "code",
   "execution_count": 52,
   "metadata": {},
   "outputs": [],
   "source": [
    "html =rq.get(url).text"
   ]
  },
  {
   "cell_type": "code",
   "execution_count": 53,
   "metadata": {},
   "outputs": [],
   "source": [
    "code= bs(html,\"html.parser\" )"
   ]
  },
  {
   "cell_type": "code",
   "execution_count": 54,
   "metadata": {},
   "outputs": [
    {
     "data": {
      "text/plain": [
       "9"
      ]
     },
     "execution_count": 54,
     "metadata": {},
     "output_type": "execute_result"
    }
   ],
   "source": [
    "len(code.find_all(\"div\", class_= 'usctitlechanged'))"
   ]
  },
  {
   "cell_type": "markdown",
   "metadata": {},
   "source": [
    "#### A Python list with the top ten FBI's Most Wanted names "
   ]
  },
  {
   "cell_type": "code",
   "execution_count": 55,
   "metadata": {},
   "outputs": [],
   "source": [
    "# This is the url you will scrape in this exercise\n",
    "url = 'https://www.fbi.gov/wanted/topten'"
   ]
  },
  {
   "cell_type": "code",
   "execution_count": 56,
   "metadata": {},
   "outputs": [],
   "source": [
    "html= rq.get(url).text"
   ]
  },
  {
   "cell_type": "code",
   "execution_count": 57,
   "metadata": {},
   "outputs": [],
   "source": [
    "fbi= bs(html, 'html.parser')"
   ]
  },
  {
   "cell_type": "code",
   "execution_count": 58,
   "metadata": {},
   "outputs": [],
   "source": [
    "most= fbi.find_all('h3')"
   ]
  },
  {
   "cell_type": "code",
   "execution_count": 59,
   "metadata": {},
   "outputs": [
    {
     "data": {
      "text/plain": [
       "['OMAR ALEXANDER CARDENAS',\n",
       " 'ALEXIS FLORES',\n",
       " 'JOSE RODOLFO VILLARREAL-HERNANDEZ',\n",
       " 'YULAN ADONAY ARCHAGA CARIAS',\n",
       " 'BHADRESHKUMAR CHETANBHAI PATEL',\n",
       " 'ALEJANDRO ROSALES CASTILLO',\n",
       " 'MICHAEL JAMES PRATT',\n",
       " 'RUJA IGNATOVA',\n",
       " 'ARNOLDO JIMENEZ',\n",
       " 'RAFAEL CARO-QUINTERO',\n",
       " 'federal bureau of investigation',\n",
       " 'FBI.gov Contact Center']"
      ]
     },
     "execution_count": 59,
     "metadata": {},
     "output_type": "execute_result"
    }
   ],
   "source": [
    "top_10=[]\n",
    "for i in most:\n",
    "    top_10.append(i.text.strip())\n",
    "top_10\n",
    "    "
   ]
  },
  {
   "cell_type": "markdown",
   "metadata": {},
   "source": [
    "####  20 latest earthquakes info (date, time, latitude, longitude and region name) by the EMSC as a pandas dataframe"
   ]
  },
  {
   "cell_type": "code",
   "execution_count": 60,
   "metadata": {},
   "outputs": [],
   "source": [
    "# This is the url you will scrape in this exercise\n",
    "url = 'https://www.emsc-csem.org/Earthquake/'"
   ]
  },
  {
   "cell_type": "code",
   "execution_count": 61,
   "metadata": {},
   "outputs": [],
   "source": [
    "html= rq.get(url).text\n"
   ]
  },
  {
   "cell_type": "code",
   "execution_count": 62,
   "metadata": {},
   "outputs": [],
   "source": [
    "quake= bs(html, 'html.parser')"
   ]
  },
  {
   "cell_type": "code",
   "execution_count": 63,
   "metadata": {},
   "outputs": [],
   "source": [
    "earth_df= quake.find_all('tr', class_='normal')"
   ]
  },
  {
   "cell_type": "code",
   "execution_count": 64,
   "metadata": {},
   "outputs": [
    {
     "data": {
      "text/plain": [
       "'earthquake2022-11-08\\xa0\\xa0\\xa019:36:59.020min ago0.06\\xa0S\\xa0\\xa0124.45\\xa0E\\xa0\\xa021 M3.6\\xa0MOLUCCA SEA2022-11-08 19:45'"
      ]
     },
     "execution_count": 64,
     "metadata": {},
     "output_type": "execute_result"
    }
   ],
   "source": [
    "quake.find_all('tr', class_='normal')[0].text"
   ]
  },
  {
   "cell_type": "code",
   "execution_count": 65,
   "metadata": {},
   "outputs": [],
   "source": [
    "import pandas as pd"
   ]
  },
  {
   "cell_type": "code",
   "execution_count": 66,
   "metadata": {},
   "outputs": [
    {
     "data": {
      "text/plain": [
       "<bound method NDFrame.head of           date        time   latitude   longitude  \\\n",
       "0   2022-11-08  19:36:59.0   0.06 S    124.45 E     \n",
       "1   2022-11-08  19:32:59.0   2.14 S    141.00 E     \n",
       "2   2022-11-08  19:21:43.3  19.45 N    155.61 W     \n",
       "3   2022-11-08  19:21:29.6  33.92 N    116.71 W     \n",
       "4   2022-11-08  18:52:53.6  39.12 N      0.31 E     \n",
       "5   2022-11-08  18:51:47.3  19.46 N    155.60 W     \n",
       "6   2022-11-08  18:34:53.2  19.42 N    155.30 W     \n",
       "7   2022-11-08  18:28:25.5  18.96 N     65.37 W     \n",
       "8   2022-11-08  18:08:51.5  27.84 N     15.36 W     \n",
       "9   2022-11-08  18:04:47.0  21.18 S     67.49 W     \n",
       "10  2022-11-08  18:03:13.1  28.47 N     17.70 W     \n",
       "11  2022-11-08  17:56:22.3  31.67 N    104.37 W     \n",
       "12  2022-11-08  17:38:35.1  17.98 N     66.85 W     \n",
       "13  2022-11-08  17:38:30.0  24.80 N    125.40 E     \n",
       "14  2022-11-08  17:35:06.3  59.48 N    152.56 W     \n",
       "15  2022-11-08  17:35:05.5  40.27 N    124.57 W     \n",
       "16  2022-11-08  17:20:34.0   0.28 S    129.67 E     \n",
       "17  2022-11-08  17:01:11.0  22.85 S     22.79 E     \n",
       "18  2022-11-08  16:56:25.0  14.68 N    123.80 E     \n",
       "19  2022-11-08  16:45:48.9  37.76 N     21.39 E     \n",
       "20  2022-11-08  16:40:58.1  19.45 N    155.61 W     \n",
       "21  2022-11-08  16:40:43.0  32.96 S     70.28 W     \n",
       "22  2022-11-08  16:35:24.8  39.61 N    120.39 W     \n",
       "23  2022-11-08  16:19:42.3  36.00 N    118.38 W     \n",
       "24  2022-11-08  16:11:35.0  29.62 N     80.54 E     \n",
       "25  2022-11-08  16:04:03.7  28.61 N     17.88 W     \n",
       "26  2022-11-08  16:00:22.0   9.49 N     79.59 W     \n",
       "27  2022-11-08  15:49:16.0  18.03 N     66.86 W     \n",
       "28  2022-11-08  15:38:00.0  46.06 N     14.05 E     \n",
       "29  2022-11-08  15:32:57.6  46.97 N      9.77 E     \n",
       "30  2022-11-08  15:27:12.0  24.10 S     67.30 W     \n",
       "31  2022-11-08  15:26:07.0  39.50 N    123.16 W     \n",
       "32  2022-11-08  15:23:24.2  43.62 N      9.01 E     \n",
       "33  2022-11-08  15:22:36.9  29.33 N     81.17 E     \n",
       "34  2022-11-08  15:17:23.9  18.01 N     66.87 W     \n",
       "35  2022-11-08  15:08:26.8  19.55 N    156.10 W     \n",
       "36  2022-11-08  14:50:48.0   2.83 S    129.77 E     \n",
       "37  2022-11-08  14:49:11.0  22.26 S     68.73 W     \n",
       "38  2022-11-08  14:43:44.8  39.16 N      0.30 E     \n",
       "39  2022-11-08  14:38:45.8  52.39 N    179.39 W     \n",
       "40  2022-11-08  14:30:01.8  15.38 N    120.85 E     \n",
       "41  2022-11-08  14:26:07.0  35.80 S     73.28 W     \n",
       "42  2022-11-08  14:24:30.0   8.95 N     84.19 W     \n",
       "43  2022-11-08  14:20:38.0   2.97 S    122.17 E     \n",
       "44  2022-11-08  13:42:31.2  40.16 N    119.14 W     \n",
       "45  2022-11-08  13:09:18.0  34.76 S     72.12 W     \n",
       "46  2022-11-08  13:05:57.0  31.05 S     71.36 W     \n",
       "47  2022-11-08  12:53:04.8  40.17 N    119.15 W     \n",
       "48  2022-11-08  12:26:00.3  19.34 N    155.21 W     \n",
       "49  2022-11-08  12:13:59.0   4.72 S    101.71 E     \n",
       "\n",
       "                               region  \n",
       "0                         MOLUCCA SEA  \n",
       "1    NEAR N COAST OF NEW GUINEA, PNG.  \n",
       "2            ISLAND OF HAWAII, HAWAII  \n",
       "3                 SOUTHERN CALIFORNIA  \n",
       "4                               SPAIN  \n",
       "5            ISLAND OF HAWAII, HAWAII  \n",
       "6            ISLAND OF HAWAII, HAWAII  \n",
       "7                  PUERTO RICO REGION  \n",
       "8        CANARY ISLANDS, SPAIN REGION  \n",
       "9                     POTOSI, BOLIVIA  \n",
       "10       CANARY ISLANDS, SPAIN REGION  \n",
       "11                      WESTERN TEXAS  \n",
       "12                        PUERTO RICO  \n",
       "13    SOUTHWESTERN RYUKYU ISL., JAPAN  \n",
       "14                    SOUTHERN ALASKA  \n",
       "15       OFFSHORE NORTHERN CALIFORNIA  \n",
       "16               HALMAHERA, INDONESIA  \n",
       "17                           BOTSWANA  \n",
       "18                 LUZON, PHILIPPINES  \n",
       "19                    SOUTHERN GREECE  \n",
       "20           ISLAND OF HAWAII, HAWAII  \n",
       "21                  VALPARAISO, CHILE  \n",
       "22                NORTHERN CALIFORNIA  \n",
       "23                 CENTRAL CALIFORNIA  \n",
       "24          NEPAL-INDIA BORDER REGION  \n",
       "25       CANARY ISLANDS, SPAIN REGION  \n",
       "26                             PANAMA  \n",
       "27                        PUERTO RICO  \n",
       "28                           SLOVENIA  \n",
       "29                        SWITZERLAND  \n",
       "30                   SALTA, ARGENTINA  \n",
       "31                NORTHERN CALIFORNIA  \n",
       "32                       LIGURIAN SEA  \n",
       "33                              NEPAL  \n",
       "34                        PUERTO RICO  \n",
       "35              HAWAII REGION, HAWAII  \n",
       "36                   SERAM, INDONESIA  \n",
       "37                 ANTOFAGASTA, CHILE  \n",
       "38                              SPAIN  \n",
       "39    ANDREANOF ISLANDS, ALEUTIAN IS.  \n",
       "40                 LUZON, PHILIPPINES  \n",
       "41              OFFSHORE MAULE, CHILE  \n",
       "42            OFF COAST OF COSTA RICA  \n",
       "43                SULAWESI, INDONESIA  \n",
       "44                             NEVADA  \n",
       "45              OFFSHORE MAULE, CHILE  \n",
       "46                    COQUIMBO, CHILE  \n",
       "47                             NEVADA  \n",
       "48           ISLAND OF HAWAII, HAWAII  \n",
       "49        SOUTHERN SUMATRA, INDONESIA  >"
      ]
     },
     "execution_count": 66,
     "metadata": {},
     "output_type": "execute_result"
    }
   ],
   "source": [
    "data=[]\n",
    "for i in earth_df:\n",
    "    temp_fecha = i.contents[3].find('a').text\n",
    "    temp_fecha = temp_fecha.split()\n",
    "    fecha = temp_fecha[0]\n",
    "    hora = temp_fecha[1]\n",
    "    \n",
    "    latitud = i.contents[4].text + i.contents[5].text\n",
    "    longitud = i.contents[6].text + i.contents[7].text\n",
    "    region = i.contents[11].text\n",
    "    \n",
    "    data.append([fecha, hora, latitud, longitud, region])\n",
    "\n",
    "terremotos = pd.DataFrame(data, columns = ['date', 'time', 'latitude', 'longitude','region'])\n",
    "terremotos.head\n"
   ]
  },
  {
   "cell_type": "code",
   "execution_count": 67,
   "metadata": {},
   "outputs": [],
   "source": [
    "last_terr = terremotos[:21]"
   ]
  },
  {
   "cell_type": "code",
   "execution_count": 68,
   "metadata": {},
   "outputs": [
    {
     "data": {
      "text/html": [
       "<div>\n",
       "<style scoped>\n",
       "    .dataframe tbody tr th:only-of-type {\n",
       "        vertical-align: middle;\n",
       "    }\n",
       "\n",
       "    .dataframe tbody tr th {\n",
       "        vertical-align: top;\n",
       "    }\n",
       "\n",
       "    .dataframe thead th {\n",
       "        text-align: right;\n",
       "    }\n",
       "</style>\n",
       "<table border=\"1\" class=\"dataframe\">\n",
       "  <thead>\n",
       "    <tr style=\"text-align: right;\">\n",
       "      <th></th>\n",
       "      <th>date</th>\n",
       "      <th>time</th>\n",
       "      <th>latitude</th>\n",
       "      <th>longitude</th>\n",
       "      <th>region</th>\n",
       "    </tr>\n",
       "  </thead>\n",
       "  <tbody>\n",
       "    <tr>\n",
       "      <th>0</th>\n",
       "      <td>2022-11-08</td>\n",
       "      <td>19:36:59.0</td>\n",
       "      <td>0.06 S</td>\n",
       "      <td>124.45 E</td>\n",
       "      <td>MOLUCCA SEA</td>\n",
       "    </tr>\n",
       "    <tr>\n",
       "      <th>1</th>\n",
       "      <td>2022-11-08</td>\n",
       "      <td>19:32:59.0</td>\n",
       "      <td>2.14 S</td>\n",
       "      <td>141.00 E</td>\n",
       "      <td>NEAR N COAST OF NEW GUINEA, PNG.</td>\n",
       "    </tr>\n",
       "    <tr>\n",
       "      <th>2</th>\n",
       "      <td>2022-11-08</td>\n",
       "      <td>19:21:43.3</td>\n",
       "      <td>19.45 N</td>\n",
       "      <td>155.61 W</td>\n",
       "      <td>ISLAND OF HAWAII, HAWAII</td>\n",
       "    </tr>\n",
       "    <tr>\n",
       "      <th>3</th>\n",
       "      <td>2022-11-08</td>\n",
       "      <td>19:21:29.6</td>\n",
       "      <td>33.92 N</td>\n",
       "      <td>116.71 W</td>\n",
       "      <td>SOUTHERN CALIFORNIA</td>\n",
       "    </tr>\n",
       "    <tr>\n",
       "      <th>4</th>\n",
       "      <td>2022-11-08</td>\n",
       "      <td>18:52:53.6</td>\n",
       "      <td>39.12 N</td>\n",
       "      <td>0.31 E</td>\n",
       "      <td>SPAIN</td>\n",
       "    </tr>\n",
       "    <tr>\n",
       "      <th>5</th>\n",
       "      <td>2022-11-08</td>\n",
       "      <td>18:51:47.3</td>\n",
       "      <td>19.46 N</td>\n",
       "      <td>155.60 W</td>\n",
       "      <td>ISLAND OF HAWAII, HAWAII</td>\n",
       "    </tr>\n",
       "    <tr>\n",
       "      <th>6</th>\n",
       "      <td>2022-11-08</td>\n",
       "      <td>18:34:53.2</td>\n",
       "      <td>19.42 N</td>\n",
       "      <td>155.30 W</td>\n",
       "      <td>ISLAND OF HAWAII, HAWAII</td>\n",
       "    </tr>\n",
       "    <tr>\n",
       "      <th>7</th>\n",
       "      <td>2022-11-08</td>\n",
       "      <td>18:28:25.5</td>\n",
       "      <td>18.96 N</td>\n",
       "      <td>65.37 W</td>\n",
       "      <td>PUERTO RICO REGION</td>\n",
       "    </tr>\n",
       "    <tr>\n",
       "      <th>8</th>\n",
       "      <td>2022-11-08</td>\n",
       "      <td>18:08:51.5</td>\n",
       "      <td>27.84 N</td>\n",
       "      <td>15.36 W</td>\n",
       "      <td>CANARY ISLANDS, SPAIN REGION</td>\n",
       "    </tr>\n",
       "    <tr>\n",
       "      <th>9</th>\n",
       "      <td>2022-11-08</td>\n",
       "      <td>18:04:47.0</td>\n",
       "      <td>21.18 S</td>\n",
       "      <td>67.49 W</td>\n",
       "      <td>POTOSI, BOLIVIA</td>\n",
       "    </tr>\n",
       "    <tr>\n",
       "      <th>10</th>\n",
       "      <td>2022-11-08</td>\n",
       "      <td>18:03:13.1</td>\n",
       "      <td>28.47 N</td>\n",
       "      <td>17.70 W</td>\n",
       "      <td>CANARY ISLANDS, SPAIN REGION</td>\n",
       "    </tr>\n",
       "    <tr>\n",
       "      <th>11</th>\n",
       "      <td>2022-11-08</td>\n",
       "      <td>17:56:22.3</td>\n",
       "      <td>31.67 N</td>\n",
       "      <td>104.37 W</td>\n",
       "      <td>WESTERN TEXAS</td>\n",
       "    </tr>\n",
       "    <tr>\n",
       "      <th>12</th>\n",
       "      <td>2022-11-08</td>\n",
       "      <td>17:38:35.1</td>\n",
       "      <td>17.98 N</td>\n",
       "      <td>66.85 W</td>\n",
       "      <td>PUERTO RICO</td>\n",
       "    </tr>\n",
       "    <tr>\n",
       "      <th>13</th>\n",
       "      <td>2022-11-08</td>\n",
       "      <td>17:38:30.0</td>\n",
       "      <td>24.80 N</td>\n",
       "      <td>125.40 E</td>\n",
       "      <td>SOUTHWESTERN RYUKYU ISL., JAPAN</td>\n",
       "    </tr>\n",
       "    <tr>\n",
       "      <th>14</th>\n",
       "      <td>2022-11-08</td>\n",
       "      <td>17:35:06.3</td>\n",
       "      <td>59.48 N</td>\n",
       "      <td>152.56 W</td>\n",
       "      <td>SOUTHERN ALASKA</td>\n",
       "    </tr>\n",
       "    <tr>\n",
       "      <th>15</th>\n",
       "      <td>2022-11-08</td>\n",
       "      <td>17:35:05.5</td>\n",
       "      <td>40.27 N</td>\n",
       "      <td>124.57 W</td>\n",
       "      <td>OFFSHORE NORTHERN CALIFORNIA</td>\n",
       "    </tr>\n",
       "    <tr>\n",
       "      <th>16</th>\n",
       "      <td>2022-11-08</td>\n",
       "      <td>17:20:34.0</td>\n",
       "      <td>0.28 S</td>\n",
       "      <td>129.67 E</td>\n",
       "      <td>HALMAHERA, INDONESIA</td>\n",
       "    </tr>\n",
       "    <tr>\n",
       "      <th>17</th>\n",
       "      <td>2022-11-08</td>\n",
       "      <td>17:01:11.0</td>\n",
       "      <td>22.85 S</td>\n",
       "      <td>22.79 E</td>\n",
       "      <td>BOTSWANA</td>\n",
       "    </tr>\n",
       "    <tr>\n",
       "      <th>18</th>\n",
       "      <td>2022-11-08</td>\n",
       "      <td>16:56:25.0</td>\n",
       "      <td>14.68 N</td>\n",
       "      <td>123.80 E</td>\n",
       "      <td>LUZON, PHILIPPINES</td>\n",
       "    </tr>\n",
       "    <tr>\n",
       "      <th>19</th>\n",
       "      <td>2022-11-08</td>\n",
       "      <td>16:45:48.9</td>\n",
       "      <td>37.76 N</td>\n",
       "      <td>21.39 E</td>\n",
       "      <td>SOUTHERN GREECE</td>\n",
       "    </tr>\n",
       "    <tr>\n",
       "      <th>20</th>\n",
       "      <td>2022-11-08</td>\n",
       "      <td>16:40:58.1</td>\n",
       "      <td>19.45 N</td>\n",
       "      <td>155.61 W</td>\n",
       "      <td>ISLAND OF HAWAII, HAWAII</td>\n",
       "    </tr>\n",
       "  </tbody>\n",
       "</table>\n",
       "</div>"
      ],
      "text/plain": [
       "          date        time   latitude   longitude  \\\n",
       "0   2022-11-08  19:36:59.0   0.06 S    124.45 E     \n",
       "1   2022-11-08  19:32:59.0   2.14 S    141.00 E     \n",
       "2   2022-11-08  19:21:43.3  19.45 N    155.61 W     \n",
       "3   2022-11-08  19:21:29.6  33.92 N    116.71 W     \n",
       "4   2022-11-08  18:52:53.6  39.12 N      0.31 E     \n",
       "5   2022-11-08  18:51:47.3  19.46 N    155.60 W     \n",
       "6   2022-11-08  18:34:53.2  19.42 N    155.30 W     \n",
       "7   2022-11-08  18:28:25.5  18.96 N     65.37 W     \n",
       "8   2022-11-08  18:08:51.5  27.84 N     15.36 W     \n",
       "9   2022-11-08  18:04:47.0  21.18 S     67.49 W     \n",
       "10  2022-11-08  18:03:13.1  28.47 N     17.70 W     \n",
       "11  2022-11-08  17:56:22.3  31.67 N    104.37 W     \n",
       "12  2022-11-08  17:38:35.1  17.98 N     66.85 W     \n",
       "13  2022-11-08  17:38:30.0  24.80 N    125.40 E     \n",
       "14  2022-11-08  17:35:06.3  59.48 N    152.56 W     \n",
       "15  2022-11-08  17:35:05.5  40.27 N    124.57 W     \n",
       "16  2022-11-08  17:20:34.0   0.28 S    129.67 E     \n",
       "17  2022-11-08  17:01:11.0  22.85 S     22.79 E     \n",
       "18  2022-11-08  16:56:25.0  14.68 N    123.80 E     \n",
       "19  2022-11-08  16:45:48.9  37.76 N     21.39 E     \n",
       "20  2022-11-08  16:40:58.1  19.45 N    155.61 W     \n",
       "\n",
       "                               region  \n",
       "0                         MOLUCCA SEA  \n",
       "1    NEAR N COAST OF NEW GUINEA, PNG.  \n",
       "2            ISLAND OF HAWAII, HAWAII  \n",
       "3                 SOUTHERN CALIFORNIA  \n",
       "4                               SPAIN  \n",
       "5            ISLAND OF HAWAII, HAWAII  \n",
       "6            ISLAND OF HAWAII, HAWAII  \n",
       "7                  PUERTO RICO REGION  \n",
       "8        CANARY ISLANDS, SPAIN REGION  \n",
       "9                     POTOSI, BOLIVIA  \n",
       "10       CANARY ISLANDS, SPAIN REGION  \n",
       "11                      WESTERN TEXAS  \n",
       "12                        PUERTO RICO  \n",
       "13    SOUTHWESTERN RYUKYU ISL., JAPAN  \n",
       "14                    SOUTHERN ALASKA  \n",
       "15       OFFSHORE NORTHERN CALIFORNIA  \n",
       "16               HALMAHERA, INDONESIA  \n",
       "17                           BOTSWANA  \n",
       "18                 LUZON, PHILIPPINES  \n",
       "19                    SOUTHERN GREECE  \n",
       "20           ISLAND OF HAWAII, HAWAII  "
      ]
     },
     "execution_count": 68,
     "metadata": {},
     "output_type": "execute_result"
    }
   ],
   "source": [
    "last_terr"
   ]
  },
  {
   "cell_type": "markdown",
   "metadata": {},
   "source": [
    "#### Display the date, days, title, city, country of next 25 hackathon events as a Pandas dataframe table"
   ]
  },
  {
   "cell_type": "code",
   "execution_count": null,
   "metadata": {},
   "outputs": [],
   "source": [
    "# This is the url you will scrape in this exercise\n",
    "url ='https://hackevents.co/hackathons'"
   ]
  },
  {
   "cell_type": "code",
   "execution_count": null,
   "metadata": {},
   "outputs": [],
   "source": [
    "#your code"
   ]
  },
  {
   "cell_type": "markdown",
   "metadata": {},
   "source": [
    "#### Count number of tweets by a given Twitter account."
   ]
  },
  {
   "cell_type": "markdown",
   "metadata": {},
   "source": [
    "You will need to include a ***try/except block*** for account names not found. \n",
    "<br>***Hint:*** the program should count the number of tweets for any provided account"
   ]
  },
  {
   "cell_type": "code",
   "execution_count": 83,
   "metadata": {},
   "outputs": [],
   "source": [
    "# This is the url you will scrape in this exercise \n",
    "# You will need to add the account credentials to this url\n",
    "url = 'https://twitter.com/PabloIglesias'"
   ]
  },
  {
   "cell_type": "code",
   "execution_count": 84,
   "metadata": {},
   "outputs": [],
   "source": [
    "html= rq.get(url).text"
   ]
  },
  {
   "cell_type": "code",
   "execution_count": 85,
   "metadata": {},
   "outputs": [],
   "source": [
    "twt= bs(html, 'html.parser')"
   ]
  },
  {
   "cell_type": "code",
   "execution_count": 105,
   "metadata": {},
   "outputs": [
    {
     "data": {
      "text/plain": [
       "[<span class=\"css-901oao css-16my406 r-poiln3 r-bcqeeo r-qvutc0\">Something went wrong, but don’t fret — let’s give it another shot.</span>]"
      ]
     },
     "execution_count": 105,
     "metadata": {},
     "output_type": "execute_result"
    }
   ],
   "source": [
    "twt.find_all('span')\n"
   ]
  },
  {
   "cell_type": "code",
   "execution_count": 101,
   "metadata": {},
   "outputs": [],
   "source": []
  },
  {
   "cell_type": "code",
   "execution_count": 102,
   "metadata": {},
   "outputs": [
    {
     "data": {
      "text/plain": [
       "{'aria-label': 'Loading…',\n",
       " 'class': ['css-1dbjc4n',\n",
       "  'r-14lw9ot',\n",
       "  'r-1p0dtai',\n",
       "  'r-1d2f490',\n",
       "  'r-1xcajam',\n",
       "  'r-zchlnj',\n",
       "  'r-ipm5af'],\n",
       " 'id': 'placeholder'}"
      ]
     },
     "execution_count": 102,
     "metadata": {},
     "output_type": "execute_result"
    }
   ],
   "source": [
    "twt1.attrs"
   ]
  },
  {
   "cell_type": "markdown",
   "metadata": {},
   "source": [
    "#### Number of followers of a given twitter account"
   ]
  },
  {
   "cell_type": "markdown",
   "metadata": {},
   "source": [
    "You will need to include a ***try/except block*** in case account/s name not found. \n",
    "<br>***Hint:*** the program should count the followers for any provided account"
   ]
  },
  {
   "cell_type": "code",
   "execution_count": null,
   "metadata": {},
   "outputs": [],
   "source": [
    "# This is the url you will scrape in this exercise \n",
    "# You will need to add the account credentials to this url\n",
    "url = 'https://twitter.com/'"
   ]
  },
  {
   "cell_type": "code",
   "execution_count": null,
   "metadata": {},
   "outputs": [],
   "source": [
    "#your code"
   ]
  },
  {
   "cell_type": "markdown",
   "metadata": {},
   "source": [
    "#### List all language names and number of related articles in the order they appear in wikipedia.org"
   ]
  },
  {
   "cell_type": "code",
   "execution_count": null,
   "metadata": {},
   "outputs": [],
   "source": [
    "# This is the url you will scrape in this exercise\n",
    "url = 'https://www.wikipedia.org/'"
   ]
  },
  {
   "cell_type": "code",
   "execution_count": null,
   "metadata": {},
   "outputs": [],
   "source": [
    "#your code"
   ]
  },
  {
   "cell_type": "markdown",
   "metadata": {},
   "source": [
    "#### A list with the different kind of datasets available in data.gov.uk "
   ]
  },
  {
   "cell_type": "code",
   "execution_count": null,
   "metadata": {},
   "outputs": [],
   "source": [
    "# This is the url you will scrape in this exercise\n",
    "url = 'https://data.gov.uk/'"
   ]
  },
  {
   "cell_type": "code",
   "execution_count": null,
   "metadata": {},
   "outputs": [],
   "source": [
    "#your code "
   ]
  },
  {
   "cell_type": "markdown",
   "metadata": {},
   "source": [
    "#### Top 10 languages by number of native speakers stored in a Pandas Dataframe"
   ]
  },
  {
   "cell_type": "code",
   "execution_count": 133,
   "metadata": {},
   "outputs": [],
   "source": [
    "# This is the url you will scrape in this exercise\n",
    "url = 'https://www.wikipedia.org/'"
   ]
  },
  {
   "cell_type": "code",
   "execution_count": 184,
   "metadata": {},
   "outputs": [],
   "source": [
    "html= rq.get(url).text"
   ]
  },
  {
   "cell_type": "code",
   "execution_count": 185,
   "metadata": {},
   "outputs": [],
   "source": [
    "wiki= bs(html,'html.parser')"
   ]
  },
  {
   "cell_type": "code",
   "execution_count": 186,
   "metadata": {},
   "outputs": [],
   "source": [
    "wi=wiki.find_all('a',class_='link-box')[0]"
   ]
  },
  {
   "cell_type": "code",
   "execution_count": 187,
   "metadata": {},
   "outputs": [
    {
     "data": {
      "text/plain": [
       "<div class=\"central-featured-lang lang1\" dir=\"ltr\" lang=\"en\">\n",
       "<a class=\"link-box\" data-slogan=\"The Free Encyclopedia\" href=\"//en.wikipedia.org/\" id=\"js-link-box-en\" title=\"English â Wikipedia â The Free Encyclopedia\">\n",
       "<strong>English</strong>\n",
       "<small><bdi dir=\"ltr\">6 458 000+</bdi> <span>articles</span></small>\n",
       "</a>\n",
       "</div>"
      ]
     },
     "execution_count": 187,
     "metadata": {},
     "output_type": "execute_result"
    }
   ],
   "source": [
    "wiki.find_all('div',class_='central-featured-lang')[0]"
   ]
  },
  {
   "cell_type": "code",
   "execution_count": 188,
   "metadata": {},
   "outputs": [
    {
     "ename": "AttributeError",
     "evalue": "'str' object has no attribute 'is_xml'",
     "output_type": "error",
     "traceback": [
      "\u001b[1;31m---------------------------------------------------------------------------\u001b[0m",
      "\u001b[1;31mAttributeError\u001b[0m                            Traceback (most recent call last)",
      "Cell \u001b[1;32mIn [188], line 1\u001b[0m\n\u001b[1;32m----> 1\u001b[0m \u001b[43mbs\u001b[49m\u001b[38;5;241;43m.\u001b[39;49m\u001b[43mdecode\u001b[49m\u001b[43m(\u001b[49m\u001b[43mwi\u001b[49m\u001b[43m[\u001b[49m\u001b[38;5;124;43m'\u001b[39;49m\u001b[38;5;124;43mtitle\u001b[39;49m\u001b[38;5;124;43m'\u001b[39;49m\u001b[43m]\u001b[49m\u001b[43m)\u001b[49m\n",
      "File \u001b[1;32m~\\AppData\\Roaming\\Python\\Python39\\site-packages\\bs4\\__init__.py:760\u001b[0m, in \u001b[0;36mBeautifulSoup.decode\u001b[1;34m(self, pretty_print, eventual_encoding, formatter)\u001b[0m\n\u001b[0;32m    749\u001b[0m \u001b[38;5;28;01mdef\u001b[39;00m \u001b[38;5;21mdecode\u001b[39m(\u001b[38;5;28mself\u001b[39m, pretty_print\u001b[38;5;241m=\u001b[39m\u001b[38;5;28;01mFalse\u001b[39;00m,\n\u001b[0;32m    750\u001b[0m            eventual_encoding\u001b[38;5;241m=\u001b[39mDEFAULT_OUTPUT_ENCODING,\n\u001b[0;32m    751\u001b[0m            formatter\u001b[38;5;241m=\u001b[39m\u001b[38;5;124m\"\u001b[39m\u001b[38;5;124mminimal\u001b[39m\u001b[38;5;124m\"\u001b[39m):\n\u001b[0;32m    752\u001b[0m     \u001b[38;5;124;03m\"\"\"Returns a string or Unicode representation of the parse tree\u001b[39;00m\n\u001b[0;32m    753\u001b[0m \u001b[38;5;124;03m        as an HTML or XML document.\u001b[39;00m\n\u001b[0;32m    754\u001b[0m \n\u001b[1;32m   (...)\u001b[0m\n\u001b[0;32m    758\u001b[0m \u001b[38;5;124;03m        If this is None, the document will be a Unicode string.\u001b[39;00m\n\u001b[0;32m    759\u001b[0m \u001b[38;5;124;03m    \"\"\"\u001b[39;00m\n\u001b[1;32m--> 760\u001b[0m     \u001b[38;5;28;01mif\u001b[39;00m \u001b[38;5;28;43mself\u001b[39;49m\u001b[38;5;241;43m.\u001b[39;49m\u001b[43mis_xml\u001b[49m:\n\u001b[0;32m    761\u001b[0m         \u001b[38;5;66;03m# Print the XML declaration\u001b[39;00m\n\u001b[0;32m    762\u001b[0m         encoding_part \u001b[38;5;241m=\u001b[39m \u001b[38;5;124m'\u001b[39m\u001b[38;5;124m'\u001b[39m\n\u001b[0;32m    763\u001b[0m         \u001b[38;5;28;01mif\u001b[39;00m eventual_encoding \u001b[38;5;129;01min\u001b[39;00m PYTHON_SPECIFIC_ENCODINGS:\n\u001b[0;32m    764\u001b[0m             \u001b[38;5;66;03m# This is a special Python encoding; it can't actually\u001b[39;00m\n\u001b[0;32m    765\u001b[0m             \u001b[38;5;66;03m# go into an XML document because it means nothing\u001b[39;00m\n\u001b[0;32m    766\u001b[0m             \u001b[38;5;66;03m# outside of Python.\u001b[39;00m\n",
      "\u001b[1;31mAttributeError\u001b[0m: 'str' object has no attribute 'is_xml'"
     ]
    }
   ],
   "source": [
    "string(wi['title'])"
   ]
  },
  {
   "cell_type": "markdown",
   "metadata": {},
   "source": [
    "### BONUS QUESTIONS"
   ]
  },
  {
   "cell_type": "markdown",
   "metadata": {},
   "source": [
    "#### Scrape a certain number of tweets of a given Twitter account."
   ]
  },
  {
   "cell_type": "code",
   "execution_count": null,
   "metadata": {},
   "outputs": [],
   "source": [
    "# This is the url you will scrape in this exercise \n",
    "# You will need to add the account credentials to this url\n",
    "url = 'https://twitter.com/'"
   ]
  },
  {
   "cell_type": "code",
   "execution_count": null,
   "metadata": {},
   "outputs": [],
   "source": [
    "# your code"
   ]
  },
  {
   "cell_type": "markdown",
   "metadata": {},
   "source": [
    "#### IMDB's Top 250 data (movie name, Initial release, director name and stars) as a pandas dataframe"
   ]
  },
  {
   "cell_type": "code",
   "execution_count": null,
   "metadata": {},
   "outputs": [],
   "source": [
    "# This is the url you will scrape in this exercise \n",
    "url = 'https://www.imdb.com/chart/top'"
   ]
  },
  {
   "cell_type": "code",
   "execution_count": null,
   "metadata": {},
   "outputs": [],
   "source": [
    "# your code"
   ]
  },
  {
   "cell_type": "markdown",
   "metadata": {},
   "source": [
    "#### Movie name, year and a brief summary of the top 10 random movies (IMDB) as a pandas dataframe."
   ]
  },
  {
   "cell_type": "code",
   "execution_count": null,
   "metadata": {},
   "outputs": [],
   "source": [
    "#This is the url you will scrape in this exercise\n",
    "url = 'http://www.imdb.com/chart/top'"
   ]
  },
  {
   "cell_type": "code",
   "execution_count": null,
   "metadata": {},
   "outputs": [],
   "source": [
    "#your code"
   ]
  },
  {
   "cell_type": "markdown",
   "metadata": {},
   "source": [
    "#### Find the live weather report (temperature, wind speed, description and weather) of a given city."
   ]
  },
  {
   "cell_type": "code",
   "execution_count": null,
   "metadata": {},
   "outputs": [],
   "source": [
    "#https://openweathermap.org/current\n",
    "city = city=input('Enter the city:')\n",
    "url = 'http://api.openweathermap.org/data/2.5/weather?'+'q='+city+'&APPID=b35975e18dc93725acb092f7272cc6b8&units=metric'"
   ]
  },
  {
   "cell_type": "code",
   "execution_count": null,
   "metadata": {},
   "outputs": [],
   "source": [
    "# your code"
   ]
  },
  {
   "cell_type": "markdown",
   "metadata": {},
   "source": [
    "#### Book name,price and stock availability as a pandas dataframe."
   ]
  },
  {
   "cell_type": "code",
   "execution_count": null,
   "metadata": {},
   "outputs": [],
   "source": [
    "# This is the url you will scrape in this exercise. \n",
    "# It is a fictional bookstore created to be scraped. \n",
    "url = 'http://books.toscrape.com/'"
   ]
  },
  {
   "cell_type": "code",
   "execution_count": null,
   "metadata": {},
   "outputs": [],
   "source": [
    "#your code"
   ]
  }
 ],
 "metadata": {
  "kernelspec": {
   "display_name": "Python 3 (ipykernel)",
   "language": "python",
   "name": "python3"
  },
  "language_info": {
   "codemirror_mode": {
    "name": "ipython",
    "version": 3
   },
   "file_extension": ".py",
   "mimetype": "text/x-python",
   "name": "python",
   "nbconvert_exporter": "python",
   "pygments_lexer": "ipython3",
   "version": "3.9.12"
  }
 },
 "nbformat": 4,
 "nbformat_minor": 2
}
